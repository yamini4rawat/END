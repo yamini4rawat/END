{
  "nbformat": 4,
  "nbformat_minor": 0,
  "metadata": {
    "colab": {
      "name": "Session8B_Assignment.ipynb",
      "provenance": [],
      "collapsed_sections": []
    },
    "kernelspec": {
      "name": "python3",
      "display_name": "Python 3"
    }
  },
  "cells": [
    {
      "cell_type": "markdown",
      "metadata": {
        "id": "aP_pFNf-M6p6"
      },
      "source": [
        "1) Python function to print permutations of a given list"
      ]
    },
    {
      "cell_type": "code",
      "metadata": {
        "colab": {
          "base_uri": "https://localhost:8080/"
        },
        "id": "Kscs3N9LM5ks",
        "outputId": "f8cb448f-3f64-4936-fb56-d4fc28a6dd02"
      },
      "source": [
        "def permutation(lst): \r\n",
        "  \r\n",
        "    # If lst is empty then there are no permutations \r\n",
        "    if len(lst) == 0: \r\n",
        "        return [] \r\n",
        "  \r\n",
        "    # If there is only one element in lst then, only \r\n",
        "    # one permuatation is possible \r\n",
        "    if len(lst) == 1: \r\n",
        "        return [lst] \r\n",
        "  \r\n",
        "    # Find the permutations for lst if there are \r\n",
        "    # more than 1 characters \r\n",
        "  \r\n",
        "    l = [] # empty list that will store current permutation \r\n",
        "  \r\n",
        "    # Iterate the input(lst) and calculate the permutation \r\n",
        "    for i in range(len(lst)): \r\n",
        "       m = lst[i] \r\n",
        "  \r\n",
        "       # Extract lst[i] or m from the list.  remLst is \r\n",
        "       # remaining list \r\n",
        "       remLst = lst[:i] + lst[i+1:] \r\n",
        "  \r\n",
        "       # Generating all permutations where m is first \r\n",
        "       # element \r\n",
        "       for p in permutation(remLst): \r\n",
        "           l.append([m] + p) \r\n",
        "    return l \r\n",
        "  \r\n",
        "  \r\n",
        "# Driver program to test above function \r\n",
        "data = list('123') \r\n",
        "for p in permutation(data): \r\n",
        "    print(p)"
      ],
      "execution_count": 128,
      "outputs": [
        {
          "output_type": "stream",
          "text": [
            "['1', '2', '3']\n",
            "['1', '3', '2']\n",
            "['2', '1', '3']\n",
            "['2', '3', '1']\n",
            "['3', '1', '2']\n",
            "['3', '2', '1']\n"
          ],
          "name": "stdout"
        }
      ]
    },
    {
      "cell_type": "markdown",
      "metadata": {
        "id": "olxrApdVNtGK"
      },
      "source": [
        "2) Program which takes string as an input and print the characters that have even indexes."
      ]
    },
    {
      "cell_type": "code",
      "metadata": {
        "colab": {
          "base_uri": "https://localhost:8080/"
        },
        "id": "J-NhuIoSM-mm",
        "outputId": "db0fdad9-d3c4-44fe-85de-7c3075b52f31"
      },
      "source": [
        "s=\"T1H2E3 4S5C6H7O8O9L1 2O3F4 5A6I\"\r\n",
        "s = s[::2]\r\n",
        "print(s)"
      ],
      "execution_count": 129,
      "outputs": [
        {
          "output_type": "stream",
          "text": [
            "THE SCHOOL OF AI\n"
          ],
          "name": "stdout"
        }
      ]
    },
    {
      "cell_type": "markdown",
      "metadata": {
        "id": "UPe_eNrhOYuP"
      },
      "source": [
        "3) Program which reverses a string"
      ]
    },
    {
      "cell_type": "code",
      "metadata": {
        "colab": {
          "base_uri": "https://localhost:8080/"
        },
        "id": "jTKK2DZGN1A0",
        "outputId": "03dbd490-7691-4dc7-9fc3-60cef73c478a"
      },
      "source": [
        "input_ = \"IA FO LOOHCS EHT\"\r\n",
        "input_ = input_[::-1]\r\n",
        "print(input_)"
      ],
      "execution_count": 130,
      "outputs": [
        {
          "output_type": "stream",
          "text": [
            "THE SCHOOL OF AI\n"
          ],
          "name": "stdout"
        }
      ]
    },
    {
      "cell_type": "markdown",
      "metadata": {
        "id": "rNzHXwDuPZKH"
      },
      "source": [
        "4) Program to count the frequency of each letter in a string"
      ]
    },
    {
      "cell_type": "code",
      "metadata": {
        "colab": {
          "base_uri": "https://localhost:8080/"
        },
        "id": "ebSm3H1uPUN5",
        "outputId": "57804510-6a28-4a0a-cb50-2be4860e93f7"
      },
      "source": [
        "dictionaryOfLetters = {}\r\n",
        "input_ = \"THE SCHOOL OF AI\"\r\n",
        "for input_ in input_:\r\n",
        "    dictionaryOfLetters[input_] = dictionaryOfLetters.get(input_,0)+1\r\n",
        "print('\\n'.join(['%s,%s' % (k, v) for k, v in dictionaryOfLetters.items()]))"
      ],
      "execution_count": 131,
      "outputs": [
        {
          "output_type": "stream",
          "text": [
            "T,1\n",
            "H,2\n",
            "E,1\n",
            " ,3\n",
            "S,1\n",
            "C,1\n",
            "O,3\n",
            "L,1\n",
            "F,1\n",
            "A,1\n",
            "I,1\n"
          ],
          "name": "stdout"
        }
      ]
    },
    {
      "cell_type": "markdown",
      "metadata": {
        "id": "jKPvt3TzP6EX"
      },
      "source": [
        "5) Program to remove duplicates from the list"
      ]
    },
    {
      "cell_type": "code",
      "metadata": {
        "colab": {
          "base_uri": "https://localhost:8080/"
        },
        "id": "tpZySd2rPsFV",
        "outputId": "39a76ba1-3d97-4c83-8667-8d69bce08dfd"
      },
      "source": [
        "def removeDuplicate(inputList):\r\n",
        "    extractedList = []\r\n",
        "    duplicacyMaintainenceSet = set()\r\n",
        "    for item in inputList:\r\n",
        "        if item not in duplicacyMaintainenceSet:\r\n",
        "            duplicacyMaintainenceSet.add(item)\r\n",
        "            extractedList.append(item)\r\n",
        "    return extractedList\r\n",
        "\r\n",
        "inputList=[16, 4, 3, 12, 4, 6, 16, 18, 20, 15]\r\n",
        "print(removeDuplicate(inputList))"
      ],
      "execution_count": 132,
      "outputs": [
        {
          "output_type": "stream",
          "text": [
            "[16, 4, 3, 12, 6, 18, 20, 15]\n"
          ],
          "name": "stdout"
        }
      ]
    },
    {
      "cell_type": "markdown",
      "metadata": {
        "id": "kgY9GZjrRSzY"
      },
      "source": [
        "6) Program to make a list of elements which are intersection of two lists"
      ]
    },
    {
      "cell_type": "code",
      "metadata": {
        "colab": {
          "base_uri": "https://localhost:8080/"
        },
        "id": "yURLf4vhP9Wx",
        "outputId": "79980611-c20a-4573-fa19-d7296a004c6c"
      },
      "source": [
        "set1=set([1,3,6,78,35,55,100]) #Converting list to set\r\n",
        "set2=set([12,24,35,100,24,88,120,155]) #Converting list to set\r\n",
        "\r\n",
        "set1 &= set2 #Intersection of two sets\r\n",
        "outputList=list(set1) #Converting the resulting Set into List\r\n",
        "print(outputList)"
      ],
      "execution_count": 133,
      "outputs": [
        {
          "output_type": "stream",
          "text": [
            "[35, 100]\n"
          ],
          "name": "stdout"
        }
      ]
    },
    {
      "cell_type": "markdown",
      "metadata": {
        "id": "d0FmuzmmSDlc"
      },
      "source": [
        "7) Program to remove one particular Year from a list of years"
      ]
    },
    {
      "cell_type": "code",
      "metadata": {
        "colab": {
          "base_uri": "https://localhost:8080/"
        },
        "id": "8cMhSknmR5YY",
        "outputId": "eb9214ec-1696-4535-c117-3df097830179"
      },
      "source": [
        "listOfYears = [1988, 2004, 2006, 2009, 2020, 2012, 2014, 2015]\r\n",
        "listOfYears = [x for x in listOfYears if x!=2020] #List Comprehension to remove the year 2020\r\n",
        "print(listOfYears)"
      ],
      "execution_count": 134,
      "outputs": [
        {
          "output_type": "stream",
          "text": [
            "[1988, 2004, 2006, 2009, 2012, 2014, 2015]\n"
          ],
          "name": "stdout"
        }
      ]
    },
    {
      "cell_type": "markdown",
      "metadata": {
        "id": "_Ub-Q-HXSsXt"
      },
      "source": [
        "8) Program to remove elements of a list of years from the mentioned positions"
      ]
    },
    {
      "cell_type": "code",
      "metadata": {
        "colab": {
          "base_uri": "https://localhost:8080/"
        },
        "id": "sV-VZAPfSgLP",
        "outputId": "3c0f7818-b9ec-4c68-eaa1-6d3ce5cb1585"
      },
      "source": [
        "listOfYears = [1988, 2004, 2006, 2009, 2020, 2012, 2014, 2015, 2017, 2018, 2019]\r\n",
        "listOfYears = [x for (i,x) in enumerate(listOfYears) if i not in (4,8)] # Removes 2020 and 2017\r\n",
        "print(listOfYears)"
      ],
      "execution_count": 135,
      "outputs": [
        {
          "output_type": "stream",
          "text": [
            "[1988, 2004, 2006, 2009, 2012, 2014, 2015, 2018, 2019]\n"
          ],
          "name": "stdout"
        }
      ]
    },
    {
      "cell_type": "markdown",
      "metadata": {
        "id": "kV8JJrZPTQpZ"
      },
      "source": [
        "9) Program to generate a 2X3X5 matrices where each element is 9"
      ]
    },
    {
      "cell_type": "code",
      "metadata": {
        "colab": {
          "base_uri": "https://localhost:8080/"
        },
        "id": "DmLNU2pKTFFe",
        "outputId": "a7ca9421-80db-4974-a09c-f01548e3cd6a"
      },
      "source": [
        "matrice = [[ [9 for col in range(5)] for col in range(3)] for row in range(2)]\r\n",
        "print(matrice)"
      ],
      "execution_count": 136,
      "outputs": [
        {
          "output_type": "stream",
          "text": [
            "[[[9, 9, 9, 9, 9], [9, 9, 9, 9, 9], [9, 9, 9, 9, 9]], [[9, 9, 9, 9, 9], [9, 9, 9, 9, 9], [9, 9, 9, 9, 9]]]\n"
          ],
          "name": "stdout"
        }
      ]
    },
    {
      "cell_type": "markdown",
      "metadata": {
        "id": "BZjbFn9HTqwQ"
      },
      "source": [
        "10) Program to remove the even indices from a list of numbers"
      ]
    },
    {
      "cell_type": "code",
      "metadata": {
        "colab": {
          "base_uri": "https://localhost:8080/"
        },
        "id": "gK8zIQQ2TiHz",
        "outputId": "f64e2ff0-eeac-44a9-9eb0-c283beafc4e6"
      },
      "source": [
        "numList = [1, 2, 3, 4, 5, 6, 7, 8, 9, 8, 7, 6, 5, 4, 3, 2, 1]\r\n",
        "numList = [x for (i,x) in enumerate(numList) if i%2!=0]\r\n",
        "print(numList)"
      ],
      "execution_count": 137,
      "outputs": [
        {
          "output_type": "stream",
          "text": [
            "[2, 4, 6, 8, 8, 6, 4, 2]\n"
          ],
          "name": "stdout"
        }
      ]
    },
    {
      "cell_type": "markdown",
      "metadata": {
        "id": "lgLVZQgEUNTE"
      },
      "source": [
        "11) Program to delete numbers which are divisible by both 3 and 5 from a list of numbers"
      ]
    },
    {
      "cell_type": "code",
      "metadata": {
        "colab": {
          "base_uri": "https://localhost:8080/"
        },
        "id": "Xo1MGeMUUFAd",
        "outputId": "b1659642-797e-43ea-e354-690a79089537"
      },
      "source": [
        "numList = [12,24,35,70,88,120,155]\r\n",
        "numList = [x for x in numList if x%5!=0 and x%7!=0]\r\n",
        "print(numList)"
      ],
      "execution_count": 138,
      "outputs": [
        {
          "output_type": "stream",
          "text": [
            "[12, 24, 88]\n"
          ],
          "name": "stdout"
        }
      ]
    },
    {
      "cell_type": "markdown",
      "metadata": {
        "id": "Jr85JeJiUjsh"
      },
      "source": [
        "12) Program to delete even numbers from the list of numbers"
      ]
    },
    {
      "cell_type": "code",
      "metadata": {
        "colab": {
          "base_uri": "https://localhost:8080/"
        },
        "id": "SI4PWaj5Ufcl",
        "outputId": "6ad13189-8b0e-42e6-964e-69190ea6f70f"
      },
      "source": [
        "numList = [12,24,35,70,88,120,155]\r\n",
        "numList = [x for x in numList if x%2 != 0]\r\n",
        "print(numList)"
      ],
      "execution_count": 139,
      "outputs": [
        {
          "output_type": "stream",
          "text": [
            "[35, 155]\n"
          ],
          "name": "stdout"
        }
      ]
    },
    {
      "cell_type": "markdown",
      "metadata": {
        "id": "WruGKPPCUzcP"
      },
      "source": [
        "13) Program to generate sentences for the mentioned Subject, Verb and Object"
      ]
    },
    {
      "cell_type": "code",
      "metadata": {
        "colab": {
          "base_uri": "https://localhost:8080/"
        },
        "id": "q6HmN6yjU8uT",
        "outputId": "821075a6-9ce1-4cb1-912a-618ad943fc3e"
      },
      "source": [
        "subjects=[\"I\", \"You\"]\r\n",
        "verbs=[\"Enjoy\", \"Code\"]\r\n",
        "objects=[\"Java\",\"Python\"]\r\n",
        "for i in range(len(subjects)):\r\n",
        "    for j in range(len(verbs)):\r\n",
        "        for k in range(len(objects)):\r\n",
        "            sentence = \"%s %s %s.\" % (subjects[i], verbs[j], objects[k])\r\n",
        "            print(sentence)"
      ],
      "execution_count": 140,
      "outputs": [
        {
          "output_type": "stream",
          "text": [
            "I Enjoy Java.\n",
            "I Enjoy Python.\n",
            "I Code Java.\n",
            "I Code Python.\n",
            "You Enjoy Java.\n",
            "You Enjoy Python.\n",
            "You Code Java.\n",
            "You Code Python.\n"
          ],
          "name": "stdout"
        }
      ]
    },
    {
      "cell_type": "markdown",
      "metadata": {
        "id": "D_6H6wsaVPmq"
      },
      "source": [
        "14) Program to shuffle and print the list"
      ]
    },
    {
      "cell_type": "code",
      "metadata": {
        "colab": {
          "base_uri": "https://localhost:8080/"
        },
        "id": "4yDAFsosVHwn",
        "outputId": "5d9a4f00-35cb-4f04-d987-74fbbacfc1f7"
      },
      "source": [
        "from random import shuffle\r\n",
        "inputList = [12, 14, 5, 6, 9]\r\n",
        "shuffle(inputList)\r\n",
        "print('First Shuffle', inputList)\r\n",
        "shuffle(inputList)\r\n",
        "print('Second Shuffle', inputList)\r\n",
        "shuffle(inputList)\r\n",
        "print('Third Shuffle', inputList)"
      ],
      "execution_count": 141,
      "outputs": [
        {
          "output_type": "stream",
          "text": [
            "First Shuffle [6, 9, 14, 5, 12]\n",
            "Second Shuffle [14, 12, 6, 9, 5]\n",
            "Third Shuffle [12, 14, 9, 5, 6]\n"
          ],
          "name": "stdout"
        }
      ]
    },
    {
      "cell_type": "markdown",
      "metadata": {
        "id": "CZRz5IfGVvCY"
      },
      "source": [
        "15) Program to calculate and print the running time of one particular operation 100 times"
      ]
    },
    {
      "cell_type": "code",
      "metadata": {
        "colab": {
          "base_uri": "https://localhost:8080/"
        },
        "id": "_Ix3Fys8VctG",
        "outputId": "8e3c194f-f97a-4f7a-dbd9-813efb039401"
      },
      "source": [
        "from timeit import Timer\r\n",
        "t = Timer(\"for i in range(100): 100 * 100\") #Calculation 100 * 100 for 100 times\r\n",
        "print('First time Calculation : ', t.timeit()) #function to measure the running time.\r\n",
        "t = Timer(\"for i in range(100): 100 * 100\") #Calculation 100 * 100 for 100 times\r\n",
        "print('Second time Calculation : ', t.timeit()) #function to measure the running time."
      ],
      "execution_count": 142,
      "outputs": [
        {
          "output_type": "stream",
          "text": [
            "First time Calculation :  1.6373565899993991\n",
            "Second time Calculation :  1.6342936189994361\n"
          ],
          "name": "stdout"
        }
      ]
    },
    {
      "cell_type": "markdown",
      "metadata": {
        "id": "Fi7CltpyWNFi"
      },
      "source": [
        "16) Program to randomly print an integer between two specified integer numbers"
      ]
    },
    {
      "cell_type": "code",
      "metadata": {
        "colab": {
          "base_uri": "https://localhost:8080/"
        },
        "id": "2Xcacp7GW2k_",
        "outputId": "ad95bb43-5504-4f0c-efee-9fcf69389a38"
      },
      "source": [
        "import random\r\n",
        "print('First Random number : ', random.randrange(5,10))\r\n",
        "print('Second Random number : ', random.randrange(5,10))\r\n",
        "print('Third Random number : ', random.randrange(5,10))\r\n",
        "print('Fourth Random number : ', random.randrange(5,10))"
      ],
      "execution_count": 143,
      "outputs": [
        {
          "output_type": "stream",
          "text": [
            "First Random number :  7\n",
            "Second Random number :  6\n",
            "Third Random number :  6\n",
            "Fourth Random number :  9\n"
          ],
          "name": "stdout"
        }
      ]
    },
    {
      "cell_type": "markdown",
      "metadata": {
        "id": "QStB9xCWXWV2"
      },
      "source": [
        "17) Program to randomly generate a list with specified number of occurences which are divisible by 5 and 8, between 1 and 1000 inclusively"
      ]
    },
    {
      "cell_type": "code",
      "metadata": {
        "colab": {
          "base_uri": "https://localhost:8080/"
        },
        "id": "AbACcG8aXJKA",
        "outputId": "34e6ab03-fd39-4a07-f2e5-3f98c8d736d4"
      },
      "source": [
        "import random\r\n",
        "print(\"First Random : \", random.sample([i for i in range(1,1001) if i%5==0 and i%8==0], 10))\r\n",
        "print(\"Second Random : \", random.sample([i for i in range(1,1001) if i%5==0 and i%8==0], 10))\r\n",
        "print(\"Third Random : \", random.sample([i for i in range(1,1001) if i%5==0 and i%8==0], 10))\r\n",
        "print(\"Fourth Random : \", random.sample([i for i in range(1,1001) if i%5==0 and i%8==0], 10))\r\n",
        "print(\"Fifth Random : \", random.sample([i for i in range(1,1001) if i%5==0 and i%8==0], 10))"
      ],
      "execution_count": 144,
      "outputs": [
        {
          "output_type": "stream",
          "text": [
            "First Random :  [720, 280, 800, 560, 80, 960, 520, 120, 920, 840]\n",
            "Second Random :  [40, 760, 960, 920, 320, 600, 160, 1000, 80, 520]\n",
            "Third Random :  [440, 840, 1000, 680, 240, 80, 760, 400, 520, 360]\n",
            "Fourth Random :  [1000, 560, 960, 520, 840, 480, 680, 400, 320, 280]\n",
            "Fifth Random :  [880, 760, 240, 360, 40, 320, 920, 1000, 160, 440]\n"
          ],
          "name": "stdout"
        }
      ]
    },
    {
      "cell_type": "markdown",
      "metadata": {
        "id": "iNn4Xc1HX-nA"
      },
      "source": [
        "18) Program to randomly generate a list with 5 even numbers between 100 and 200 inclusively"
      ]
    },
    {
      "cell_type": "code",
      "metadata": {
        "colab": {
          "base_uri": "https://localhost:8080/"
        },
        "id": "bpzPyNg4XtyS",
        "outputId": "361ade48-b2fb-41c4-c70c-1232384365c7"
      },
      "source": [
        "import random\r\n",
        "print('First random: ', random.sample([i for i in range(100,201) if i%2==0], 5))\r\n",
        "print('Second random: ', random.sample([i for i in range(100,201) if i%2==0], 5))\r\n",
        "print('Third random: ', random.sample([i for i in range(100,201) if i%2==0], 5))"
      ],
      "execution_count": 145,
      "outputs": [
        {
          "output_type": "stream",
          "text": [
            "First random:  [146, 152, 102, 160, 106]\n",
            "Second random:  [116, 148, 182, 166, 188]\n",
            "Third random:  [120, 176, 106, 100, 154]\n"
          ],
          "name": "stdout"
        }
      ]
    },
    {
      "cell_type": "markdown",
      "metadata": {
        "id": "eLwIvCRbYaKa"
      },
      "source": [
        "19) Program to randomly generate a list of random values"
      ]
    },
    {
      "cell_type": "code",
      "metadata": {
        "colab": {
          "base_uri": "https://localhost:8080/"
        },
        "id": "Bajk-g-2YMqo",
        "outputId": "fa1062e2-4c63-4636-e557-f3365b1b83e8"
      },
      "source": [
        "import random\r\n",
        "print('First Randomn:', random.sample(range(50), 7))\r\n",
        "print('Second Randomn:', random.sample(range(50), 7))\r\n",
        "print('Third Randomn:', random.sample(range(50), 7))\r\n",
        "print('Fourth Randomn:', random.sample(range(50), 7))\r\n",
        "print('Fifth Randomn:', random.sample(range(50), 7))"
      ],
      "execution_count": 146,
      "outputs": [
        {
          "output_type": "stream",
          "text": [
            "First Randomn: [35, 2, 37, 43, 34, 16, 20]\n",
            "Second Randomn: [31, 40, 11, 20, 8, 47, 6]\n",
            "Third Randomn: [22, 6, 29, 41, 48, 20, 35]\n",
            "Fourth Randomn: [33, 20, 46, 41, 32, 9, 5]\n",
            "Fifth Randomn: [22, 25, 16, 37, 48, 45, 33]\n"
          ],
          "name": "stdout"
        }
      ]
    },
    {
      "cell_type": "markdown",
      "metadata": {
        "id": "rfQgDg7NY8g6"
      },
      "source": [
        "20) Program to generate a random float between 5 and 95 using"
      ]
    },
    {
      "cell_type": "code",
      "metadata": {
        "colab": {
          "base_uri": "https://localhost:8080/"
        },
        "id": "t5kCPlIiYsYX",
        "outputId": "c2b14f1e-6c55-4762-a7a5-7c8f805b0055"
      },
      "source": [
        "import random\r\n",
        "print('First Random : ', random.random()*100-5)\r\n",
        "print('Second Random : ', random.random()*100-5)\r\n",
        "print('Third Random : ', random.random()*100-5)\r\n",
        "print('Fourth Random : ', random.random()*100-5)\r\n",
        "print('Fifth Random : ', random.random()*100-5)"
      ],
      "execution_count": 147,
      "outputs": [
        {
          "output_type": "stream",
          "text": [
            "First Random :  50.90225941763251\n",
            "Second Random :  36.29092224305286\n",
            "Third Random :  33.00381912812155\n",
            "Fourth Random :  80.70484404209814\n",
            "Fifth Random :  16.31624871774368\n"
          ],
          "name": "stdout"
        }
      ]
    },
    {
      "cell_type": "markdown",
      "metadata": {
        "id": "zFj2m_eEZf9R"
      },
      "source": [
        "21) Program to generate a random float between 10 and 100 using"
      ]
    },
    {
      "cell_type": "code",
      "metadata": {
        "colab": {
          "base_uri": "https://localhost:8080/"
        },
        "id": "nonxvxdvZVU7",
        "outputId": "640c7739-44ad-41ef-b5e8-84c6486949c8"
      },
      "source": [
        "import random\r\n",
        "print('First Random : ', random.random()*100)\r\n",
        "print('Second Random : ', random.random()*100)\r\n",
        "print('Third Random : ', random.random()*100)\r\n",
        "print('Fourth Random : ', random.random()*100)\r\n",
        "print('Fifth Random : ', random.random()*100)"
      ],
      "execution_count": 148,
      "outputs": [
        {
          "output_type": "stream",
          "text": [
            "First Random :  6.29873348486435\n",
            "Second Random :  7.188115917600902\n",
            "Third Random :  32.659984864302736\n",
            "Fourth Random :  6.160191896294531\n",
            "Fifth Random :  2.6563200548705868\n"
          ],
          "name": "stdout"
        }
      ]
    },
    {
      "cell_type": "markdown",
      "metadata": {
        "id": "ELcXNgjPZw_E"
      },
      "source": [
        "22) Program implementing Binary Search function in a Sorted list"
      ]
    },
    {
      "cell_type": "code",
      "metadata": {
        "colab": {
          "base_uri": "https://localhost:8080/"
        },
        "id": "4tzAx4TEZsDH",
        "outputId": "bf3551f0-8e3a-4f2f-d1a8-9ffb6680c42c"
      },
      "source": [
        "import math\r\n",
        "def bin_search(inputList, searchElement):\r\n",
        "    bottom = 0\r\n",
        "    top = len(inputList)-1\r\n",
        "    index = -1\r\n",
        "    while top>=bottom and index==-1:\r\n",
        "        mid = int(math.floor((top+bottom)/2.0))\r\n",
        "        if inputList[mid]==searchElement:\r\n",
        "            index = mid\r\n",
        "        elif inputList[mid]>searchElement:\r\n",
        "            top = mid-1\r\n",
        "        else:\r\n",
        "            bottom = mid+1\r\n",
        "\r\n",
        "    return index\r\n",
        "\r\n",
        "inputList=[12,25,37,49,51,67,82]\r\n",
        "print('Postition of 67 : ', bin_search(inputList,67))\r\n",
        "print('Position of 37', bin_search(inputList,37))"
      ],
      "execution_count": 149,
      "outputs": [
        {
          "output_type": "stream",
          "text": [
            "Postition of 67 :  5\n",
            "Position of 37 2\n"
          ],
          "name": "stdout"
        }
      ]
    },
    {
      "cell_type": "markdown",
      "metadata": {
        "id": "dD6aIgN2aj_N"
      },
      "source": [
        "23) Program takes expression as an input and evaluates it"
      ]
    },
    {
      "cell_type": "code",
      "metadata": {
        "colab": {
          "base_uri": "https://localhost:8080/"
        },
        "id": "MuUg48V0aKlN",
        "outputId": "7cc4ca71-194e-4ef1-a40a-c0393737af62"
      },
      "source": [
        "expression = \"25+12\"\r\n",
        "print(expression, ' result is : ', eval(expression))"
      ],
      "execution_count": 150,
      "outputs": [
        {
          "output_type": "stream",
          "text": [
            "25+12  result is :  37\n"
          ],
          "name": "stdout"
        }
      ]
    },
    {
      "cell_type": "markdown",
      "metadata": {
        "id": "MgYsy6nwa1a3"
      },
      "source": [
        "24) Program to verify whether every element in a list is even or not using assert statement"
      ]
    },
    {
      "cell_type": "code",
      "metadata": {
        "id": "HGei4QqtaxEi"
      },
      "source": [
        "input_= [2,4,6,8]\r\n",
        "for i in input_:\r\n",
        "    assert i%2==0"
      ],
      "execution_count": 151,
      "outputs": []
    },
    {
      "cell_type": "markdown",
      "metadata": {
        "id": "PtkaFi5VbIYX"
      },
      "source": [
        "25) Program to use `yield` to produce next value in a generator"
      ]
    },
    {
      "cell_type": "code",
      "metadata": {
        "colab": {
          "base_uri": "https://localhost:8080/"
        },
        "id": "cCjMAyF5bEKm",
        "outputId": "fdfc7085-3537-43a9-f347-8599bf6d57c9"
      },
      "source": [
        "def simpleGeneratorFun(): \r\n",
        "    yield 1\r\n",
        "    yield 2\r\n",
        "    yield 3\r\n",
        "  \r\n",
        "# Driver code to check above generator function \r\n",
        "for value in simpleGeneratorFun():  \r\n",
        "    print(value) "
      ],
      "execution_count": 157,
      "outputs": [
        {
          "output_type": "stream",
          "text": [
            "1\n",
            "2\n",
            "3\n"
          ],
          "name": "stdout"
        }
      ]
    },
    {
      "cell_type": "markdown",
      "metadata": {
        "id": "CRwVpXn6b3qT"
      },
      "source": [
        "26) Program using generator to print the even numbers between 0 and n in comma separated form while n is input by console."
      ]
    },
    {
      "cell_type": "code",
      "metadata": {
        "colab": {
          "base_uri": "https://localhost:8080/"
        },
        "id": "tm7kNUXWbW5P",
        "outputId": "6597080e-ff70-4e75-fac8-26e7a0f883f9"
      },
      "source": [
        "def EvenNumberGenerator(n):\r\n",
        "    i=0\r\n",
        "    while i<=n:\r\n",
        "        if i%2==0:\r\n",
        "            yield i\r\n",
        "        i+=1\r\n",
        "\r\n",
        "n=100\r\n",
        "values = []\r\n",
        "for i in EvenNumberGenerator(n):\r\n",
        "    values.append(str(i))\r\n",
        "\r\n",
        "print(\",\".join(values))"
      ],
      "execution_count": 1,
      "outputs": [
        {
          "output_type": "stream",
          "text": [
            "0,2,4,6,8,10,12,14,16,18,20,22,24,26,28,30,32,34,36,38,40,42,44,46,48,50,52,54,56,58,60,62,64,66,68,70,72,74,76,78,80,82,84,86,88,90,92,94,96,98,100\n"
          ],
          "name": "stdout"
        }
      ]
    },
    {
      "cell_type": "markdown",
      "metadata": {
        "id": "FFtymxXecGJ6"
      },
      "source": [
        "27) Program to display fibonacci sequence until the mentioned Sequence"
      ]
    },
    {
      "cell_type": "code",
      "metadata": {
        "colab": {
          "base_uri": "https://localhost:8080/"
        },
        "id": "7LQ4pzDicBXp",
        "outputId": "74dff80a-a3ed-4088-8e71-cc81e3826b50"
      },
      "source": [
        "def fib(n):\r\n",
        "    if n == 0: return 0\r\n",
        "    elif n == 1: return 1\r\n",
        "    else: return fib(n-1)+fib(n-2)\r\n",
        "\r\n",
        "n=7\r\n",
        "values = [str(fib(x)) for x in range(0, n+1)]\r\n",
        "print(\",\".join(values))"
      ],
      "execution_count": 2,
      "outputs": [
        {
          "output_type": "stream",
          "text": [
            "0,1,1,2,3,5,8,13\n"
          ],
          "name": "stdout"
        }
      ]
    },
    {
      "cell_type": "markdown",
      "metadata": {
        "id": "-yFaZltAcw2E"
      },
      "source": [
        "28) Program to find the fib value of the mentioned limit"
      ]
    },
    {
      "cell_type": "code",
      "metadata": {
        "colab": {
          "base_uri": "https://localhost:8080/"
        },
        "id": "60ey51ogcTtl",
        "outputId": "beada5c2-a241-473c-f14f-6d76a2d69ce6"
      },
      "source": [
        "def fib(n):\r\n",
        "    if n == 0: return 0\r\n",
        "    elif n == 1: return 1\r\n",
        "    else: return fib(n-1)+fib(n-2)\r\n",
        "\r\n",
        "n=10\r\n",
        "print(fib(n))"
      ],
      "execution_count": 3,
      "outputs": [
        {
          "output_type": "stream",
          "text": [
            "55\n"
          ],
          "name": "stdout"
        }
      ]
    },
    {
      "cell_type": "markdown",
      "metadata": {
        "id": "dsj0z3SzdO76"
      },
      "source": [
        "29) Program to implement simple recursive function"
      ]
    },
    {
      "cell_type": "code",
      "metadata": {
        "colab": {
          "base_uri": "https://localhost:8080/"
        },
        "id": "JISHM2a0csmE",
        "outputId": "d0341fb2-452f-473f-d470-9fb9b1bbb610"
      },
      "source": [
        "def recFunc(n):\r\n",
        "    if n==0:\r\n",
        "        return 0\r\n",
        "    else:\r\n",
        "        return recFunc(n-1)+100\r\n",
        "\r\n",
        "number = 20\r\n",
        "print(recFunc(number))"
      ],
      "execution_count": 4,
      "outputs": [
        {
          "output_type": "stream",
          "text": [
            "2000\n"
          ],
          "name": "stdout"
        }
      ]
    },
    {
      "cell_type": "markdown",
      "metadata": {
        "id": "nhoQEF1jdtrM"
      },
      "source": [
        "30) Program to compute `1/2+2/3+3/4+...+n/n+1` with a given n input"
      ]
    },
    {
      "cell_type": "code",
      "metadata": {
        "colab": {
          "base_uri": "https://localhost:8080/"
        },
        "id": "glFGeJ0pda04",
        "outputId": "c2af5cf6-ebe3-465e-8db2-03cf92ded3d0"
      },
      "source": [
        "n=12\r\n",
        "sum=0.0\r\n",
        "for i in range(1,n+1):\r\n",
        "    sum += float(float(i)/(i+1))\r\n",
        "print(sum)"
      ],
      "execution_count": 5,
      "outputs": [
        {
          "output_type": "stream",
          "text": [
            "9.819866244866246\n"
          ],
          "name": "stdout"
        }
      ]
    },
    {
      "cell_type": "markdown",
      "metadata": {
        "id": "WNkAzIfCeYBE"
      },
      "source": [
        "31) Program which accepts a sequence of words separated by whitespace as input to print the words composed of digits only"
      ]
    },
    {
      "cell_type": "code",
      "metadata": {
        "colab": {
          "base_uri": "https://localhost:8080/"
        },
        "id": "9FFRbqWteHu-",
        "outputId": "94a96190-50e3-4031-c59d-965524f1adaa"
      },
      "source": [
        "import re\r\n",
        "s = 'The School of End 1 Phase 1 in progress'\r\n",
        "print(re.findall(\"\\d+\",s))"
      ],
      "execution_count": 6,
      "outputs": [
        {
          "output_type": "stream",
          "text": [
            "['1', '1']\n"
          ],
          "name": "stdout"
        }
      ]
    },
    {
      "cell_type": "markdown",
      "metadata": {
        "id": "cHCArLBLewHT"
      },
      "source": [
        "32) Program to print the company name of a given email address"
      ]
    },
    {
      "cell_type": "code",
      "metadata": {
        "colab": {
          "base_uri": "https://localhost:8080/"
        },
        "id": "bAu-2qXbehDQ",
        "outputId": "9909eeef-1782-45ef-9150-1234d32308bd"
      },
      "source": [
        "import re\r\n",
        "emailAddress = 'bala@abc.com'\r\n",
        "pat2 = \"(\\w+)@(\\w+)\\.(com)\"\r\n",
        "r2 = re.match(pat2,emailAddress)\r\n",
        "print('Company Name : ', r2.group(2))"
      ],
      "execution_count": 7,
      "outputs": [
        {
          "output_type": "stream",
          "text": [
            "Company Name :  abc\n"
          ],
          "name": "stdout"
        }
      ]
    },
    {
      "cell_type": "markdown",
      "metadata": {
        "id": "fPJ5AysgfD05"
      },
      "source": [
        "33) Program to print the user name of a given email address."
      ]
    },
    {
      "cell_type": "code",
      "metadata": {
        "colab": {
          "base_uri": "https://localhost:8080/"
        },
        "id": "NmpBPUYpe_OX",
        "outputId": "59693e43-2e9e-4ccc-dfb2-0d64df5de3fa"
      },
      "source": [
        "import re\r\n",
        "emailAddress = 'bala@abc.com'\r\n",
        "pat2 = \"(\\w+)@((\\w+\\.)+(com))\"\r\n",
        "r2 = re.match(pat2,emailAddress)\r\n",
        "print('User Name : ', r2.group(1))"
      ],
      "execution_count": 8,
      "outputs": [
        {
          "output_type": "stream",
          "text": [
            "User Name :  bala\n"
          ],
          "name": "stdout"
        }
      ]
    },
    {
      "cell_type": "markdown",
      "metadata": {
        "id": "rYTDa5X4fo_a"
      },
      "source": [
        "34) Program to define a custom exception class which takes a string message as attribute."
      ]
    },
    {
      "cell_type": "code",
      "metadata": {
        "id": "ofEjgcbofL_w"
      },
      "source": [
        "class MyError(Exception):\r\n",
        "    \"\"\"My own exception class\r\n",
        "\r\n",
        "    Attributes:\r\n",
        "        msg  -- explanation of the error\r\n",
        "    \"\"\"\r\n",
        "\r\n",
        "    def __init__(self, msg):\r\n",
        "        self.msg = msg\r\n",
        "\r\n",
        "error = MyError(\"OOPs!!! An exception occured\")"
      ],
      "execution_count": 9,
      "outputs": []
    },
    {
      "cell_type": "markdown",
      "metadata": {
        "id": "hIDDXhwvf5uk"
      },
      "source": [
        "35) Program to compute `ValidNumber/0` and use try/except to catch the exceptions.\r\n"
      ]
    },
    {
      "cell_type": "code",
      "metadata": {
        "colab": {
          "base_uri": "https://localhost:8080/"
        },
        "id": "nMAvISUQf0PC",
        "outputId": "f1e4eb56-9b58-47ea-cd8d-c31728ec9f9f"
      },
      "source": [
        "def throws():\r\n",
        "    return 5/0\r\n",
        "\r\n",
        "try:\r\n",
        "    throws()\r\n",
        "except ZeroDivisionError:\r\n",
        "    print(\"division by zero!\")\r\n",
        "finally:\r\n",
        "    print('Finally block for cleanup purpose')"
      ],
      "execution_count": 10,
      "outputs": [
        {
          "output_type": "stream",
          "text": [
            "division by zero!\n",
            "Finally block for cleanup purpose\n"
          ],
          "name": "stdout"
        }
      ]
    },
    {
      "cell_type": "markdown",
      "metadata": {
        "id": "1tFTO_ingRMR"
      },
      "source": [
        "36) Program to `raise` an exception"
      ]
    },
    {
      "cell_type": "code",
      "metadata": {
        "colab": {
          "base_uri": "https://localhost:8080/",
          "height": 171
        },
        "id": "zNxET_tYgEyt",
        "outputId": "35d10142-92a9-43e0-c8b9-79385e74f59f"
      },
      "source": [
        "raise RuntimeError('A runtime exception')\r\n"
      ],
      "execution_count": 80,
      "outputs": [
        {
          "output_type": "error",
          "ename": "RuntimeError",
          "evalue": "ignored",
          "traceback": [
            "\u001b[0;31m---------------------------------------------------------------------------\u001b[0m",
            "\u001b[0;31mRuntimeError\u001b[0m                              Traceback (most recent call last)",
            "\u001b[0;32m<ipython-input-80-8b5f544446c6>\u001b[0m in \u001b[0;36m<module>\u001b[0;34m()\u001b[0m\n\u001b[0;32m----> 1\u001b[0;31m \u001b[0;32mraise\u001b[0m \u001b[0mRuntimeError\u001b[0m\u001b[0;34m(\u001b[0m\u001b[0;34m'A runtime exception'\u001b[0m\u001b[0;34m)\u001b[0m\u001b[0;34m\u001b[0m\u001b[0;34m\u001b[0m\u001b[0m\n\u001b[0m",
            "\u001b[0;31mRuntimeError\u001b[0m: A runtime exception"
          ]
        }
      ]
    },
    {
      "cell_type": "markdown",
      "metadata": {
        "id": "UAqtvAvCggVY"
      },
      "source": [
        "37) Program to define area of a square"
      ]
    },
    {
      "cell_type": "code",
      "metadata": {
        "colab": {
          "base_uri": "https://localhost:8080/"
        },
        "id": "OcqFLH7_gYkw",
        "outputId": "cea45e1f-5cc3-4250-bef3-ac04fe08f13a"
      },
      "source": [
        "class Shape(object):\r\n",
        "    def __init__(self):\r\n",
        "        pass\r\n",
        "\r\n",
        "    def area(self):\r\n",
        "        return 0\r\n",
        "\r\n",
        "class Square(Shape):\r\n",
        "    def __init__(self, l):\r\n",
        "        Shape.__init__(self)\r\n",
        "        self.length = l\r\n",
        "\r\n",
        "    def area(self):\r\n",
        "        return self.length*self.length\r\n",
        "\r\n",
        "aSquare= Square(3)\r\n",
        "print('Area of a Square 3 : ', aSquare.area())\r\n",
        "aSquare= Square(9)\r\n",
        "print('Area of a Square 9 : ', aSquare.area())\r\n",
        "aSquare= Square(7)\r\n",
        "print('Area of a Square 7 : ', aSquare.area())"
      ],
      "execution_count": 13,
      "outputs": [
        {
          "output_type": "stream",
          "text": [
            "Area of a Square 3 :  9\n",
            "Area of a Square 9 :  81\n",
            "Area of a Square 7 :  49\n"
          ],
          "name": "stdout"
        }
      ]
    },
    {
      "cell_type": "markdown",
      "metadata": {
        "id": "h5XptYiKg4pp"
      },
      "source": [
        "38) Program to define area of Rectangle"
      ]
    },
    {
      "cell_type": "code",
      "metadata": {
        "colab": {
          "base_uri": "https://localhost:8080/"
        },
        "id": "wYiBbL67gnJH",
        "outputId": "77bcaa6e-ae50-4b1a-8260-329843ddcda7"
      },
      "source": [
        "class Rectangle(object):\r\n",
        "    def __init__(self, l, w):\r\n",
        "        self.length = l\r\n",
        "        self.width  = w\r\n",
        "\r\n",
        "    def area(self):\r\n",
        "        return self.length*self.width\r\n",
        "\r\n",
        "aRectangle = Rectangle(2,10)\r\n",
        "print('Area of a rectangle (2,10)', aRectangle.area())\r\n",
        "aRectangle = Rectangle(3,9)\r\n",
        "print('Area of a rectangle (3,9)', aRectangle.area())\r\n",
        "aRectangle = Rectangle(4,8)\r\n",
        "print('Area of a rectangle (4,8)', aRectangle.area())\r\n",
        "aRectangle = Rectangle(5,7)\r\n",
        "print('Area of a rectangle (5,7)', aRectangle.area())"
      ],
      "execution_count": 14,
      "outputs": [
        {
          "output_type": "stream",
          "text": [
            "Area of a rectangle (2,10) 20\n",
            "Area of a rectangle (3,9) 27\n",
            "Area of a rectangle (4,8) 32\n",
            "Area of a rectangle (5,7) 35\n"
          ],
          "name": "stdout"
        }
      ]
    },
    {
      "cell_type": "markdown",
      "metadata": {
        "id": "aGNoINemhUIq"
      },
      "source": [
        "39) Program to define the area of the circle"
      ]
    },
    {
      "cell_type": "code",
      "metadata": {
        "colab": {
          "base_uri": "https://localhost:8080/"
        },
        "id": "xlEgYn0shQ_7",
        "outputId": "518f83c9-7382-4b91-9174-b034509e97bf"
      },
      "source": [
        "class Circle(object):\r\n",
        "    def __init__(self, r):\r\n",
        "        self.radius = r\r\n",
        "\r\n",
        "    def area(self):\r\n",
        "        return self.radius**2*3.14\r\n",
        "\r\n",
        "aCircle = Circle(2)\r\n",
        "print(aCircle.area())"
      ],
      "execution_count": 15,
      "outputs": [
        {
          "output_type": "stream",
          "text": [
            "12.56\n"
          ],
          "name": "stdout"
        }
      ]
    },
    {
      "cell_type": "markdown",
      "metadata": {
        "id": "g_tUQTfths-F"
      },
      "source": [
        "40) Program to define a class and its subclass"
      ]
    },
    {
      "cell_type": "code",
      "metadata": {
        "colab": {
          "base_uri": "https://localhost:8080/"
        },
        "id": "xVc2wSS-hjL2",
        "outputId": "9cc4fd13-57a6-43a1-9808-50ef6075b8b2"
      },
      "source": [
        "class School(object):\r\n",
        "    pass\r\n",
        "\r\n",
        "class Student(School):\r\n",
        "    pass\r\n",
        "\r\n",
        "aSchool = School()\r\n",
        "aStudent = Student()\r\n",
        "print(aSchool)\r\n",
        "print(aStudent)"
      ],
      "execution_count": 16,
      "outputs": [
        {
          "output_type": "stream",
          "text": [
            "<__main__.School object at 0x7fa2e80671d0>\n",
            "<__main__.Student object at 0x7fa2e80670f0>\n"
          ],
          "name": "stdout"
        }
      ]
    },
    {
      "cell_type": "markdown",
      "metadata": {
        "id": "COIjPhXJiswO"
      },
      "source": [
        "41) Program to define a Class and a static method"
      ]
    },
    {
      "cell_type": "code",
      "metadata": {
        "colab": {
          "base_uri": "https://localhost:8080/"
        },
        "id": "GoMCpiNfh-S7",
        "outputId": "b06920b2-2b28-453a-cad2-84e52df12d4e"
      },
      "source": [
        "class ChristUniversity(object):\r\n",
        "    @staticmethod\r\n",
        "    def print():\r\n",
        "        print(\"Christite\")\r\n",
        "\r\n",
        "christUniversity = ChristUniversity()\r\n",
        "christUniversity.print()\r\n",
        "ChristUniversity.print()"
      ],
      "execution_count": 17,
      "outputs": [
        {
          "output_type": "stream",
          "text": [
            "Christite\n",
            "Christite\n"
          ],
          "name": "stdout"
        }
      ]
    },
    {
      "cell_type": "markdown",
      "metadata": {
        "id": "_FbY38D_jIhk"
      },
      "source": [
        "42) Program which can map() to make a list whose elements are square of numbers between 1 and 20"
      ]
    },
    {
      "cell_type": "code",
      "metadata": {
        "colab": {
          "base_uri": "https://localhost:8080/"
        },
        "id": "tf2rJqj6i_yV",
        "outputId": "5b4a0236-996e-4b1c-f756-296ac97910f2"
      },
      "source": [
        "squaredNumbers = map(lambda x: x**2, range(1,21))\r\n",
        "print(list(squaredNumbers))"
      ],
      "execution_count": 18,
      "outputs": [
        {
          "output_type": "stream",
          "text": [
            "[1, 4, 9, 16, 25, 36, 49, 64, 81, 100, 121, 144, 169, 196, 225, 256, 289, 324, 361, 400]\n"
          ],
          "name": "stdout"
        }
      ]
    },
    {
      "cell_type": "markdown",
      "metadata": {
        "id": "8S-FFCQ3jWz7"
      },
      "source": [
        "43) Program which can filter() to make a list whose elements are even number between 1 and 20"
      ]
    },
    {
      "cell_type": "code",
      "metadata": {
        "colab": {
          "base_uri": "https://localhost:8080/"
        },
        "id": "u9_8lwfWjPU5",
        "outputId": "26ed24ad-9bf8-4526-b8cf-32bab0c68e4d"
      },
      "source": [
        "evenNumbers = filter(lambda x: x%2==0, range(1,21))\r\n",
        "print(list(evenNumbers))"
      ],
      "execution_count": 19,
      "outputs": [
        {
          "output_type": "stream",
          "text": [
            "[2, 4, 6, 8, 10, 12, 14, 16, 18, 20]\n"
          ],
          "name": "stdout"
        }
      ]
    },
    {
      "cell_type": "markdown",
      "metadata": {
        "id": "NIEVMNmLjkWK"
      },
      "source": [
        "44) Program which can map() and filter() to make a list whose elements are square of even number in [1,2,3,4,5,6,7,8,9,10]."
      ]
    },
    {
      "cell_type": "code",
      "metadata": {
        "colab": {
          "base_uri": "https://localhost:8080/"
        },
        "id": "rb_JRlbeja-j",
        "outputId": "703d5a77-ce25-4237-c1ed-81dd1760b782"
      },
      "source": [
        "inputList = [1,2,3,4,5,6,7,8,9,10]\r\n",
        "evenNumbers = map(lambda x: x**2, filter(lambda x: x%2==0, inputList))\r\n",
        "print(list(evenNumbers))"
      ],
      "execution_count": 20,
      "outputs": [
        {
          "output_type": "stream",
          "text": [
            "[4, 16, 36, 64, 100]\n"
          ],
          "name": "stdout"
        }
      ]
    },
    {
      "cell_type": "markdown",
      "metadata": {
        "id": "EHYemCEVj5R-"
      },
      "source": [
        "45) Program which can map() to make a list whose elements are square of elements in [1,2,3,4,5,6,7,8,9,10]."
      ]
    },
    {
      "cell_type": "code",
      "metadata": {
        "colab": {
          "base_uri": "https://localhost:8080/"
        },
        "id": "CiSNEcebjpwS",
        "outputId": "39c54a00-cfb3-4b9c-c880-09585d508459"
      },
      "source": [
        "inputList = [1,2,3,4,5,6,7,8,9,10]\r\n",
        "squaredNumbers = map(lambda x: x**2, inputList)\r\n",
        "print(list(squaredNumbers))"
      ],
      "execution_count": 21,
      "outputs": [
        {
          "output_type": "stream",
          "text": [
            "[1, 4, 9, 16, 25, 36, 49, 64, 81, 100]\n"
          ],
          "name": "stdout"
        }
      ]
    },
    {
      "cell_type": "markdown",
      "metadata": {
        "id": "JSA0b5MpkImf"
      },
      "source": [
        "46) Program which can filter even numbers in a list by using filter function. The list is: [1,2,3,4,5,6,7,8,9,10]."
      ]
    },
    {
      "cell_type": "code",
      "metadata": {
        "id": "UYWco_3NkB33"
      },
      "source": [
        "inputList = [1,2,3,4,5,6,7,8,9,10]\r\n",
        "evenNumbers = filter(lambda x: x%2==0, inputList)\r\n",
        "print(list(evenNumbers))"
      ],
      "execution_count": null,
      "outputs": []
    },
    {
      "cell_type": "markdown",
      "metadata": {
        "id": "lMC8KPvXkgwj"
      },
      "source": [
        "47) Program which accepts a string as input to print \"Yes\" if the string is \"yes\" or \"YES\" or \"Yes\", otherwise print \"No\"."
      ]
    },
    {
      "cell_type": "code",
      "metadata": {
        "colab": {
          "base_uri": "https://localhost:8080/"
        },
        "id": "7eytMOcLkOhW",
        "outputId": "74124556-6de2-4682-cf3e-d4cc00bba2c4"
      },
      "source": [
        "input_= \"Yes\"\r\n",
        "if input_==\"yes\" or input_==\"YES\" or input_==\"Yes\":\r\n",
        "    print(\"Yes\")\r\n",
        "else:\r\n",
        "    print(\"No\")"
      ],
      "execution_count": 22,
      "outputs": [
        {
          "output_type": "stream",
          "text": [
            "Yes\n"
          ],
          "name": "stdout"
        }
      ]
    },
    {
      "cell_type": "markdown",
      "metadata": {
        "id": "9Eh8eahrlcuO"
      },
      "source": [
        "48) Program to print the first half values in one line and the last half values in one line for the given tuple"
      ]
    },
    {
      "cell_type": "code",
      "metadata": {
        "colab": {
          "base_uri": "https://localhost:8080/"
        },
        "id": "Pr_85I3Ik7Io",
        "outputId": "08cc32d0-820f-4748-d7b8-30a915ae7647"
      },
      "source": [
        "inputTuple = (1,2,3,4,5,6,7,8,9,10)\r\n",
        "firstHalfTuple = inputTuple[:5]\r\n",
        "secondHalfTuple = inputTuple[5:]\r\n",
        "print('First Half Tuple : ', firstHalfTuple)\r\n",
        "print('Second Half Tuple : ', secondHalfTuple)"
      ],
      "execution_count": 23,
      "outputs": [
        {
          "output_type": "stream",
          "text": [
            "First Half Tuple :  (1, 2, 3, 4, 5)\n",
            "Second Half Tuple :  (6, 7, 8, 9, 10)\n"
          ],
          "name": "stdout"
        }
      ]
    },
    {
      "cell_type": "markdown",
      "metadata": {
        "id": "TfVAO4ibl6zP"
      },
      "source": [
        "49) Program to print a tuple where the value are square of numbers between 1 and 20"
      ]
    },
    {
      "cell_type": "code",
      "metadata": {
        "colab": {
          "base_uri": "https://localhost:8080/"
        },
        "id": "1BR0HU2flWPn",
        "outputId": "ddff89c0-3924-403a-9710-4e148ed379f5"
      },
      "source": [
        "def displayTuple():\r\n",
        "\tinputList=list()\r\n",
        "\tfor i in range(1,21):\r\n",
        "\t\tinputList.append(i**2)\r\n",
        "\tprint(tuple(inputList))\r\n",
        "\t\t\r\n",
        "displayTuple()"
      ],
      "execution_count": 24,
      "outputs": [
        {
          "output_type": "stream",
          "text": [
            "(1, 4, 9, 16, 25, 36, 49, 64, 81, 100, 121, 144, 169, 196, 225, 256, 289, 324, 361, 400)\n"
          ],
          "name": "stdout"
        }
      ]
    },
    {
      "cell_type": "markdown",
      "metadata": {
        "id": "vLGIPoSPog9y"
      },
      "source": [
        "50) Program to generate a list where the values are square of numbers between 1 and 20 (both included). Then the function needs to print all values except the first 5 elements in the list."
      ]
    },
    {
      "cell_type": "code",
      "metadata": {
        "colab": {
          "base_uri": "https://localhost:8080/"
        },
        "id": "6wogZZwemJNX",
        "outputId": "1c146480-bfde-4f09-c39a-24780cd5ca47"
      },
      "source": [
        "def generateList():\r\n",
        "\tinputList=list()\r\n",
        "\tfor i in range(1,21):\r\n",
        "\t\tinputList.append(i**2)\r\n",
        "\tprint(inputList[5:])\r\n",
        "\t\t\r\n",
        "generateList()"
      ],
      "execution_count": 25,
      "outputs": [
        {
          "output_type": "stream",
          "text": [
            "[36, 49, 64, 81, 100, 121, 144, 169, 196, 225, 256, 289, 324, 361, 400]\n"
          ],
          "name": "stdout"
        }
      ]
    },
    {
      "cell_type": "markdown",
      "metadata": {
        "id": "8GI4zJa9owso"
      },
      "source": [
        "51) Program to Generate a list where the values are square of numbers between 1 and 20 (both included). Then the function needs to print the last 5 elements in the list."
      ]
    },
    {
      "cell_type": "code",
      "metadata": {
        "colab": {
          "base_uri": "https://localhost:8080/"
        },
        "id": "w7URNlp4osfQ",
        "outputId": "1e0e3b6a-024a-4285-ee24-b2d18c84a648"
      },
      "source": [
        "def generateList():\r\n",
        "\tinputList=list()\r\n",
        "\tfor i in range(1,21):\r\n",
        "\t\tinputList.append(i**2)\r\n",
        "\tprint(inputList[-5:])\r\n",
        "\t\t\r\n",
        "generateList()"
      ],
      "execution_count": 26,
      "outputs": [
        {
          "output_type": "stream",
          "text": [
            "[256, 289, 324, 361, 400]\n"
          ],
          "name": "stdout"
        }
      ]
    },
    {
      "cell_type": "markdown",
      "metadata": {
        "id": "fmUZBMrio_0h"
      },
      "source": [
        "52) Program to generate a list where the values are square of numbers between 1 and 20 (both included). Then the function needs to print the first 5 elements in the list."
      ]
    },
    {
      "cell_type": "code",
      "metadata": {
        "colab": {
          "base_uri": "https://localhost:8080/"
        },
        "id": "SMZ4D3qEo33u",
        "outputId": "a22b8fa8-86d5-4424-e8b1-fa2a83d2942d"
      },
      "source": [
        "def generateList():\r\n",
        "\tinputList=list()\r\n",
        "\tfor i in range(1,21):\r\n",
        "\t\tinputList.append(i**2)\r\n",
        "\tprint(inputList[:5])\r\n",
        "\t\t\r\n",
        "generateList()"
      ],
      "execution_count": 27,
      "outputs": [
        {
          "output_type": "stream",
          "text": [
            "[1, 4, 9, 16, 25]\n"
          ],
          "name": "stdout"
        }
      ]
    },
    {
      "cell_type": "markdown",
      "metadata": {
        "id": "Ug7AyDPvpN9A"
      },
      "source": [
        "53) Program to Generate and print a list where the values are square of numbers between 1 and 20 (both included)."
      ]
    },
    {
      "cell_type": "code",
      "metadata": {
        "colab": {
          "base_uri": "https://localhost:8080/"
        },
        "id": "CGWuG6ExpEoM",
        "outputId": "f5a6af33-6f32-4632-8d9b-b1101cac7032"
      },
      "source": [
        "def generateList():\r\n",
        "\tinputList=list()\r\n",
        "\tfor i in range(1,21):\r\n",
        "\t\tinputList.append(i**2)\r\n",
        "\tprint(inputList)\r\n",
        "\t\t\r\n",
        "generateList()"
      ],
      "execution_count": 28,
      "outputs": [
        {
          "output_type": "stream",
          "text": [
            "[1, 4, 9, 16, 25, 36, 49, 64, 81, 100, 121, 144, 169, 196, 225, 256, 289, 324, 361, 400]\n"
          ],
          "name": "stdout"
        }
      ]
    },
    {
      "cell_type": "markdown",
      "metadata": {
        "id": "uBKOEADMpaXw"
      },
      "source": [
        "54) Program to Define a class Person and its two child classes: Male and Female. All classes have a method \"getGender\" which can print \"Male\" for Male class and \"Female\" for Female class."
      ]
    },
    {
      "cell_type": "code",
      "metadata": {
        "colab": {
          "base_uri": "https://localhost:8080/"
        },
        "id": "6BL7QxpppTtV",
        "outputId": "672f7766-4024-422f-a1fd-634c316daa54"
      },
      "source": [
        "class Person(object):\r\n",
        "    def getGender( self ):\r\n",
        "        return \"Unknown\"\r\n",
        "\r\n",
        "class Male( Person ):\r\n",
        "    def getGender( self ):\r\n",
        "        return \"Person is Male\"\r\n",
        "\r\n",
        "class Female( Person ):\r\n",
        "    def getGender( self ):\r\n",
        "        return \"Person is Female\"\r\n",
        "\r\n",
        "malePerson = Male()\r\n",
        "femalePerson= Female()\r\n",
        "print(malePerson.getGender())\r\n",
        "print(femalePerson.getGender())"
      ],
      "execution_count": 29,
      "outputs": [
        {
          "output_type": "stream",
          "text": [
            "Person is Male\n",
            "Person is Female\n"
          ],
          "name": "stdout"
        }
      ]
    },
    {
      "cell_type": "markdown",
      "metadata": {
        "id": "udWS_l1Upq5q"
      },
      "source": [
        "55) Program to Define a function which can generate a dictionary where the keys are numbers between 1 and 20 (both included) and the values are square of keys. The function should just print the keys only."
      ]
    },
    {
      "cell_type": "code",
      "metadata": {
        "colab": {
          "base_uri": "https://localhost:8080/"
        },
        "id": "lE1yMuTqpmjV",
        "outputId": "3648207b-097e-4d50-f5e0-41f44a9a0c25"
      },
      "source": [
        "def generateDictionary():\r\n",
        "\tcustomDictionary = dict()\r\n",
        "\tfor index in range(1,21):\r\n",
        "\t\tcustomDictionary[index]=index**2\r\n",
        "\tfor key in customDictionary.keys():\t\r\n",
        "\t\tprint('Key is : ', key)\r\n",
        "\t\t\r\n",
        "generateDictionary()\r\n"
      ],
      "execution_count": 30,
      "outputs": [
        {
          "output_type": "stream",
          "text": [
            "Key is :  1\n",
            "Key is :  2\n",
            "Key is :  3\n",
            "Key is :  4\n",
            "Key is :  5\n",
            "Key is :  6\n",
            "Key is :  7\n",
            "Key is :  8\n",
            "Key is :  9\n",
            "Key is :  10\n",
            "Key is :  11\n",
            "Key is :  12\n",
            "Key is :  13\n",
            "Key is :  14\n",
            "Key is :  15\n",
            "Key is :  16\n",
            "Key is :  17\n",
            "Key is :  18\n",
            "Key is :  19\n",
            "Key is :  20\n"
          ],
          "name": "stdout"
        }
      ]
    },
    {
      "cell_type": "markdown",
      "metadata": {
        "id": "4LrLB24oqM_x"
      },
      "source": [
        "56) Program to Define a function which can generate a dictionary where the keys are numbers between 1 and 20 (both included) and the values are square of keys. The function should just print the values only."
      ]
    },
    {
      "cell_type": "code",
      "metadata": {
        "colab": {
          "base_uri": "https://localhost:8080/"
        },
        "id": "NtZbAr7Ip7nI",
        "outputId": "eea3c30e-e535-49f7-cc04-ee3b26242ba4"
      },
      "source": [
        "def generateDictionary():\r\n",
        "\tcustomDictionary = dict()\r\n",
        "\tfor index in range(1,21):\r\n",
        "\t\tcustomDictionary[index]=index**2\r\n",
        "\tfor (key, value) in customDictionary.items():\t\r\n",
        "\t\tprint('Value is : ', value)\r\n",
        "\t\t\r\n",
        "generateDictionary()"
      ],
      "execution_count": 31,
      "outputs": [
        {
          "output_type": "stream",
          "text": [
            "Value is :  1\n",
            "Value is :  4\n",
            "Value is :  9\n",
            "Value is :  16\n",
            "Value is :  25\n",
            "Value is :  36\n",
            "Value is :  49\n",
            "Value is :  64\n",
            "Value is :  81\n",
            "Value is :  100\n",
            "Value is :  121\n",
            "Value is :  144\n",
            "Value is :  169\n",
            "Value is :  196\n",
            "Value is :  225\n",
            "Value is :  256\n",
            "Value is :  289\n",
            "Value is :  324\n",
            "Value is :  361\n",
            "Value is :  400\n"
          ],
          "name": "stdout"
        }
      ]
    },
    {
      "cell_type": "markdown",
      "metadata": {
        "id": "blRf5ZskqgnI"
      },
      "source": [
        "57) Program to print a dictionary where the keys are numbers between 1 and 20 (both included) and the values are square of keys."
      ]
    },
    {
      "cell_type": "code",
      "metadata": {
        "colab": {
          "base_uri": "https://localhost:8080/"
        },
        "id": "ieP_6jUVqawt",
        "outputId": "18fd9a3b-6048-4797-a627-77187fb95665"
      },
      "source": [
        "def generateDictionary():\r\n",
        "\tcustomDictionary = dict()\r\n",
        "\tfor index in range(1,21):\r\n",
        "\t\tcustomDictionary[index]=index**2\r\n",
        "\tprint('Custom dictionary is : ', customDictionary)\r\n",
        "\t\t\r\n",
        "generateDictionary()"
      ],
      "execution_count": 32,
      "outputs": [
        {
          "output_type": "stream",
          "text": [
            "Custom dictionary is :  {1: 1, 2: 4, 3: 9, 4: 16, 5: 25, 6: 36, 7: 49, 8: 64, 9: 81, 10: 100, 11: 121, 12: 144, 13: 169, 14: 196, 15: 225, 16: 256, 17: 289, 18: 324, 19: 361, 20: 400}\n"
          ],
          "name": "stdout"
        }
      ]
    },
    {
      "cell_type": "markdown",
      "metadata": {
        "id": "v21OInNsqwlX"
      },
      "source": [
        "58) Program to print a dictionary where the keys are numbers between 1 and 3 (both included) and the values are square of keys."
      ]
    },
    {
      "cell_type": "code",
      "metadata": {
        "colab": {
          "base_uri": "https://localhost:8080/"
        },
        "id": "W4IXBQ3LqqoP",
        "outputId": "beaedb14-68f1-4730-8631-958f080d3c79"
      },
      "source": [
        "def generateCustomDictionary():\r\n",
        "\tcustomDictionary = dict()\r\n",
        "\tcustomDictionary[1]=1\r\n",
        "\tcustomDictionary[2]=2**2\r\n",
        "\tcustomDictionary[3]=3**2\r\n",
        "\tprint('Custom dictionary is : ', customDictionary)\r\n",
        "\t\t\r\n",
        "\r\n",
        "generateCustomDictionary()"
      ],
      "execution_count": 33,
      "outputs": [
        {
          "output_type": "stream",
          "text": [
            "Custom dictionary is :  {1: 1, 2: 4, 3: 9}\n"
          ],
          "name": "stdout"
        }
      ]
    },
    {
      "cell_type": "markdown",
      "metadata": {
        "id": "my-4i1s-rCYi"
      },
      "source": [
        "59) Program that can accept an integer number as input and print the \"It is an even number\" if the number is even, otherwise print \"It is an odd number\"."
      ]
    },
    {
      "cell_type": "code",
      "metadata": {
        "colab": {
          "base_uri": "https://localhost:8080/"
        },
        "id": "vfglpU96q6J2",
        "outputId": "c52350eb-7076-4f66-cee4-f8c61f65c141"
      },
      "source": [
        "def validateValue(inputNumber):\r\n",
        "\tif inputNumber%2 == 0:\r\n",
        "\t\tprint(inputNumber,\"is an even number\")\r\n",
        "\telse:\r\n",
        "\t\tprint(inputNumber,\"is an odd number\")\r\n",
        "\t\t\r\n",
        "\r\n",
        "validateValue(23)"
      ],
      "execution_count": 34,
      "outputs": [
        {
          "output_type": "stream",
          "text": [
            "23 is an odd number\n"
          ],
          "name": "stdout"
        }
      ]
    },
    {
      "cell_type": "markdown",
      "metadata": {
        "id": "i0YKdVWkrf_S"
      },
      "source": [
        "60) Program that can accept two strings as input and print the string with maximum length in console. If two strings have the same length, then the function should print al l strings line by line."
      ]
    },
    {
      "cell_type": "code",
      "metadata": {
        "colab": {
          "base_uri": "https://localhost:8080/"
        },
        "id": "gFsVczqTrZAl",
        "outputId": "198bfb57-ffbf-43df-cd13-f1f0d88c5f8d"
      },
      "source": [
        "def generateValues(string1,string2):\r\n",
        "\tstring1len = len(string1)\r\n",
        "\tstring2len = len(string2)\r\n",
        "\tif string1len>string2len:\r\n",
        "\t\tprint(string1)\r\n",
        "\telif string2len>string1len:\r\n",
        "\t\tprint(string2)\r\n",
        "\telse:\r\n",
        "\t\tprint(string1, ' - ', string2)\r\n",
        " \r\n",
        "generateValues(\"The School\",\"Of AI\")\r\n",
        "generateValues(\"The School\",\"The School\")"
      ],
      "execution_count": 35,
      "outputs": [
        {
          "output_type": "stream",
          "text": [
            "The School\n",
            "The School  -  The School\n"
          ],
          "name": "stdout"
        }
      ]
    },
    {
      "cell_type": "markdown",
      "metadata": {
        "id": "3X_Ui-XlseI3"
      },
      "source": [
        "61) Program that can accept two strings as input and concatenate them and then print it in console."
      ]
    },
    {
      "cell_type": "code",
      "metadata": {
        "colab": {
          "base_uri": "https://localhost:8080/"
        },
        "id": "CwBC5aVTsT0U",
        "outputId": "8464fdb1-2c54-42f0-843f-c3404e17ca6d"
      },
      "source": [
        "def displayValue(string1,string2):\r\n",
        "\tprint(string1+string2)\r\n",
        "\r\n",
        "displayValue(\"The School Of \",\"AI\")\r\n",
        "displayValue(\"10 \",\"65\")"
      ],
      "execution_count": 36,
      "outputs": [
        {
          "output_type": "stream",
          "text": [
            "The School Of AI\n",
            "10 65\n"
          ],
          "name": "stdout"
        }
      ]
    },
    {
      "cell_type": "markdown",
      "metadata": {
        "id": "9VBkdUuTtaFi"
      },
      "source": [
        "62) Program that can receive two integral numbers in string form and compute their sum and then print it in console."
      ]
    },
    {
      "cell_type": "code",
      "metadata": {
        "colab": {
          "base_uri": "https://localhost:8080/"
        },
        "id": "FntV2-1istKD",
        "outputId": "162f345f-cb5b-4c8a-f109-06fc61a016d6"
      },
      "source": [
        "def concatentateValue(string1,string2):\r\n",
        "\tprint(int(string1)+int(string2))\r\n",
        "\r\n",
        "concatentateValue(\"18\",\"02\")"
      ],
      "execution_count": 37,
      "outputs": [
        {
          "output_type": "stream",
          "text": [
            "20\n"
          ],
          "name": "stdout"
        }
      ]
    },
    {
      "cell_type": "markdown",
      "metadata": {
        "id": "8oawGTletwRd"
      },
      "source": [
        "63) Program that can convert a integer into a string and print it in console."
      ]
    },
    {
      "cell_type": "code",
      "metadata": {
        "colab": {
          "base_uri": "https://localhost:8080/"
        },
        "id": "SI8-YW6otseO",
        "outputId": "4c800a52-346a-4fff-9c81-223cd2419a54"
      },
      "source": [
        "def convertIntToString(inputNumber):\r\n",
        "\tprint(str(inputNumber))\r\n",
        "\r\n",
        "convertIntToString(17)"
      ],
      "execution_count": 38,
      "outputs": [
        {
          "output_type": "stream",
          "text": [
            "17\n"
          ],
          "name": "stdout"
        }
      ]
    },
    {
      "cell_type": "markdown",
      "metadata": {
        "id": "eqR29Q8BuEgJ"
      },
      "source": [
        "64) Program with two numbers as arguments. You can compute the sum in the function and return the value."
      ]
    },
    {
      "cell_type": "code",
      "metadata": {
        "colab": {
          "base_uri": "https://localhost:8080/"
        },
        "id": "yd9JLiW-t8nT",
        "outputId": "3d03b5d9-baad-4ba9-fbef-4ede9282ffbb"
      },
      "source": [
        "def sumTwoNumbers(inputNumber1, inputNumber2):\r\n",
        "\treturn inputNumber1+inputNumber2\r\n",
        "\r\n",
        "print(sumTwoNumbers(1,2))"
      ],
      "execution_count": 39,
      "outputs": [
        {
          "output_type": "stream",
          "text": [
            "3\n"
          ],
          "name": "stdout"
        }
      ]
    },
    {
      "cell_type": "markdown",
      "metadata": {
        "id": "XD_8zCctuUDg"
      },
      "source": [
        "65) Program to define a class, which have a class parameter and have a same instance parameter."
      ]
    },
    {
      "cell_type": "code",
      "metadata": {
        "colab": {
          "base_uri": "https://localhost:8080/"
        },
        "id": "uo1kI8F_uPbz",
        "outputId": "4f22205f-49bd-4a35-9eb8-797b0084b65c"
      },
      "source": [
        "class Person:\r\n",
        "    # Define the class parameter \"name\"\r\n",
        "    name = \"Person\"\r\n",
        "    \r\n",
        "    def __init__(self, name = None):\r\n",
        "        # self.name is the instance parameter\r\n",
        "        self.name = name\r\n",
        "\r\n",
        "person1 = Person(\"Person1\")\r\n",
        "print(\"%s name is %s\" % (Person.name, person1.name))\r\n",
        "\r\n",
        "person2 = Person()\r\n",
        "person2.name = \"Person2\"\r\n",
        "print(\"%s name is %s\" % (Person.name, person2.name))"
      ],
      "execution_count": 40,
      "outputs": [
        {
          "output_type": "stream",
          "text": [
            "Person name is Person1\n",
            "Person name is Person2\n"
          ],
          "name": "stdout"
        }
      ]
    },
    {
      "cell_type": "markdown",
      "metadata": {
        "id": "wwqpO7Tmvdbs"
      },
      "source": [
        "66) Program to calculate square value of number"
      ]
    },
    {
      "cell_type": "code",
      "metadata": {
        "colab": {
          "base_uri": "https://localhost:8080/"
        },
        "id": "KMqm-1SCvN3o",
        "outputId": "d9981874-e519-40ec-b99a-5588e3fc63db"
      },
      "source": [
        "def squareOfANumber(inputNumber):\r\n",
        "    return inputNumber ** 2\r\n",
        "\r\n",
        "print(squareOfANumber(12))\r\n",
        "print(squareOfANumber(32))"
      ],
      "execution_count": 41,
      "outputs": [
        {
          "output_type": "stream",
          "text": [
            "144\n",
            "1024\n"
          ],
          "name": "stdout"
        }
      ]
    },
    {
      "cell_type": "markdown",
      "metadata": {
        "id": "8PRyKtJpv0Ot"
      },
      "source": [
        "67) Program to compute the frequency of the words from the input."
      ]
    },
    {
      "cell_type": "code",
      "metadata": {
        "colab": {
          "base_uri": "https://localhost:8080/"
        },
        "id": "tl8H83EkvqyS",
        "outputId": "72ef5259-d55c-419e-af2e-4b5255d1b62d"
      },
      "source": [
        "frequency = {}   # frequency of words in text\r\n",
        "line = \"The School Of AI and the AI School. Program name is END Program, EVA Program. EVA has EVA Phase 1, Phase 2\"\r\n",
        "for word in line.split():\r\n",
        "    frequency[word] = frequency.get(word,0)+1\r\n",
        "\r\n",
        "words = frequency.keys()\r\n",
        "\r\n",
        "for word in words:\r\n",
        "    print(\"%s:%d\" % (word,frequency[word]))"
      ],
      "execution_count": 42,
      "outputs": [
        {
          "output_type": "stream",
          "text": [
            "The:1\n",
            "School:1\n",
            "Of:1\n",
            "AI:2\n",
            "and:1\n",
            "the:1\n",
            "School.:1\n",
            "Program:1\n",
            "name:1\n",
            "is:1\n",
            "END:1\n",
            "Program,:1\n",
            "EVA:3\n",
            "Program.:1\n",
            "has:1\n",
            "Phase:2\n",
            "1,:1\n",
            "2:1\n"
          ],
          "name": "stdout"
        }
      ]
    },
    {
      "cell_type": "markdown",
      "metadata": {
        "id": "tL-dMelSwZDd"
      },
      "source": [
        "68) Program to list comprehension to square each odd number in a list. The list is input by a sequence of comma-separated numbers"
      ]
    },
    {
      "cell_type": "code",
      "metadata": {
        "colab": {
          "base_uri": "https://localhost:8080/"
        },
        "id": "dZNwep0iyz8j",
        "outputId": "6d601f01-f8dd-4a3f-8995-5b9ac07230ff"
      },
      "source": [
        "inputValues = \"11,22,33,44,55,66,77,88,99\"\r\n",
        "output = [x for x in inputValues.split(\",\") if int(x)%2!=0]\r\n",
        "print(\",\".join(output))"
      ],
      "execution_count": 43,
      "outputs": [
        {
          "output_type": "stream",
          "text": [
            "11,33,55,77,99\n"
          ],
          "name": "stdout"
        }
      ]
    },
    {
      "cell_type": "markdown",
      "metadata": {
        "id": "AnyE9m-7zkMI"
      },
      "source": [
        "69) Program that computes the value of k+kk+kkk+kkkk with a given digit as the value of num"
      ]
    },
    {
      "cell_type": "code",
      "metadata": {
        "colab": {
          "base_uri": "https://localhost:8080/"
        },
        "id": "OL2obepLzYes",
        "outputId": "92f6407a-d143-42a3-a724-7bd761e05eca"
      },
      "source": [
        "num = 12\r\n",
        "output1 = int( \"%s\" % num )\r\n",
        "output2 = int( \"%s%s\" % (num,num) )\r\n",
        "output3 = int( \"%s%s%s\" % (num,num,num) )\r\n",
        "output4 = int( \"%s%s%s%s\" % (num, num, num, num) )\r\n",
        "print(output1 + output2 + output3 + output4)"
      ],
      "execution_count": 44,
      "outputs": [
        {
          "output_type": "stream",
          "text": [
            "12243648\n"
          ],
          "name": "stdout"
        }
      ]
    },
    {
      "cell_type": "markdown",
      "metadata": {
        "id": "USIulHIV0Quz"
      },
      "source": [
        "70) Program that accepts a sentence and calculate the number of upper case letters and lower case letters."
      ]
    },
    {
      "cell_type": "code",
      "metadata": {
        "colab": {
          "base_uri": "https://localhost:8080/"
        },
        "id": "956nH70m0CXq",
        "outputId": "0f803845-3d18-42ea-a0b3-7f616b5999c4"
      },
      "source": [
        "string = \"The School Of AI\"\r\n",
        "caseDictionary={\"UPPER CASE\":0, \"LOWER CASE\":0}\r\n",
        "for c in string:\r\n",
        "    if c.isupper():\r\n",
        "        caseDictionary[\"UPPER CASE\"]+=1\r\n",
        "    elif c.islower():\r\n",
        "        caseDictionary[\"LOWER CASE\"]+=1\r\n",
        "    else:\r\n",
        "        pass\r\n",
        "print(\"UPPER CASE\", caseDictionary[\"UPPER CASE\"])\r\n",
        "print(\"LOWER CASE\", caseDictionary[\"LOWER CASE\"])"
      ],
      "execution_count": 45,
      "outputs": [
        {
          "output_type": "stream",
          "text": [
            "UPPER CASE 5\n",
            "LOWER CASE 8\n"
          ],
          "name": "stdout"
        }
      ]
    },
    {
      "cell_type": "markdown",
      "metadata": {
        "id": "ok2DqvRM0oLC"
      },
      "source": [
        "71) Program that accepts a sentence and calculate the number of letters and digits."
      ]
    },
    {
      "cell_type": "code",
      "metadata": {
        "colab": {
          "base_uri": "https://localhost:8080/"
        },
        "id": "JX-oJ3fw0gQd",
        "outputId": "a9c9dd31-f3aa-4681-9250-6b6736374420"
      },
      "source": [
        "string = \"The School Of AI END Program Phase 1, month 12\"\r\n",
        "caseDictionary={\"DIGITS\":0, \"LETTERS\":0}\r\n",
        "for c in string:\r\n",
        "    if c.isdigit():\r\n",
        "        caseDictionary[\"DIGITS\"]+=1\r\n",
        "    elif c.isalpha():\r\n",
        "        caseDictionary[\"LETTERS\"]+=1\r\n",
        "    else:\r\n",
        "        pass\r\n",
        "print(\"LETTERS\", caseDictionary[\"LETTERS\"])\r\n",
        "print(\"DIGITS\", caseDictionary[\"DIGITS\"])"
      ],
      "execution_count": 46,
      "outputs": [
        {
          "output_type": "stream",
          "text": [
            "LETTERS 33\n",
            "DIGITS 3\n"
          ],
          "name": "stdout"
        }
      ]
    },
    {
      "cell_type": "markdown",
      "metadata": {
        "id": "uWs1fOdL1K2p"
      },
      "source": [
        "72) Program which will find all such numbers between 1000 and 3000 (both included) such that each digit of the number is an even number.\r\n",
        "The numbers obtained should be printed in a comma-separated sequence on a single line."
      ]
    },
    {
      "cell_type": "code",
      "metadata": {
        "colab": {
          "base_uri": "https://localhost:8080/"
        },
        "id": "jK4dc-sF09-s",
        "outputId": "2571bf51-3f77-4e16-9de0-8a0b19d1f3aa"
      },
      "source": [
        "numberValues = []\r\n",
        "for i in range(1000, 3001):\r\n",
        "    s = str(i)\r\n",
        "    if (int(s[0])%2==0) and (int(s[1])%2==0) and (int(s[2])%2==0) and (int(s[3])%2==0):\r\n",
        "        numberValues.append(s)\r\n",
        "print(\",\".join(numberValues))"
      ],
      "execution_count": 47,
      "outputs": [
        {
          "output_type": "stream",
          "text": [
            "2000,2002,2004,2006,2008,2020,2022,2024,2026,2028,2040,2042,2044,2046,2048,2060,2062,2064,2066,2068,2080,2082,2084,2086,2088,2200,2202,2204,2206,2208,2220,2222,2224,2226,2228,2240,2242,2244,2246,2248,2260,2262,2264,2266,2268,2280,2282,2284,2286,2288,2400,2402,2404,2406,2408,2420,2422,2424,2426,2428,2440,2442,2444,2446,2448,2460,2462,2464,2466,2468,2480,2482,2484,2486,2488,2600,2602,2604,2606,2608,2620,2622,2624,2626,2628,2640,2642,2644,2646,2648,2660,2662,2664,2666,2668,2680,2682,2684,2686,2688,2800,2802,2804,2806,2808,2820,2822,2824,2826,2828,2840,2842,2844,2846,2848,2860,2862,2864,2866,2868,2880,2882,2884,2886,2888\n"
          ],
          "name": "stdout"
        }
      ]
    },
    {
      "cell_type": "markdown",
      "metadata": {
        "id": "11CO9Q4M1fl1"
      },
      "source": [
        "73) Program which accepts a sequence of comma separated 4 digit binary numbers as its input and then check whether they are divisible by 5 or not. The numbers that are divisible by 5 are to be printed in a comma separated sequence."
      ]
    },
    {
      "cell_type": "code",
      "metadata": {
        "colab": {
          "base_uri": "https://localhost:8080/"
        },
        "id": "At_bY__F1ZLY",
        "outputId": "07e0c69c-4dfb-437c-c77e-4a6425da2e95"
      },
      "source": [
        "numberValue = []\r\n",
        "items=[x for x in \"0001,1111,1010,1110\".split(',')]\r\n",
        "for p in items:\r\n",
        "    intp = int(p, 2)\r\n",
        "    if not intp%5:\r\n",
        "        numberValue.append(p)\r\n",
        "\r\n",
        "print(','.join(numberValue))"
      ],
      "execution_count": 48,
      "outputs": [
        {
          "output_type": "stream",
          "text": [
            "1111,1010\n"
          ],
          "name": "stdout"
        }
      ]
    },
    {
      "cell_type": "markdown",
      "metadata": {
        "id": "5ncxmkCM19F-"
      },
      "source": [
        "74) Program that accepts a sequence of whitespace separated words as input and prints the words after removing all duplicate words and sorting them alphanumerically."
      ]
    },
    {
      "cell_type": "code",
      "metadata": {
        "colab": {
          "base_uri": "https://localhost:8080/"
        },
        "id": "5hz4dt1X1pfa",
        "outputId": "5348ddbf-59b4-47c6-9072-ec6bd7c57916"
      },
      "source": [
        "s = \"The School Of AI has EVA Phase 1, Phase 2  and END Programs\"\r\n",
        "words = [word for word in s.split(\" \")]\r\n",
        "print(\" \".join(sorted(list(set(words)))))"
      ],
      "execution_count": 49,
      "outputs": [
        {
          "output_type": "stream",
          "text": [
            " 1, 2 AI END EVA Of Phase Programs School The and has\n"
          ],
          "name": "stdout"
        }
      ]
    },
    {
      "cell_type": "markdown",
      "metadata": {
        "id": "3dcxvAVM2QJo"
      },
      "source": [
        "75) Program that accepts sequence of lines as input and prints the lines after making all characters in the sentence capitalized."
      ]
    },
    {
      "cell_type": "code",
      "metadata": {
        "colab": {
          "base_uri": "https://localhost:8080/"
        },
        "id": "XaTk2W6v2Moh",
        "outputId": "00f7bc56-a8c0-4674-c854-7c273ceaadee"
      },
      "source": [
        "lines = []\r\n",
        "while True:\r\n",
        "    s = input()\r\n",
        "    if s:\r\n",
        "        lines.append(s.upper())\r\n",
        "    else:\r\n",
        "        break;\r\n",
        "\r\n",
        "for sentence in lines:\r\n",
        "    print(sentence)"
      ],
      "execution_count": 50,
      "outputs": [
        {
          "output_type": "stream",
          "text": [
            "the school of ai\n",
            "has two major programs\n",
            "end and eva\n",
            "\n",
            "THE SCHOOL OF AI\n",
            "HAS TWO MAJOR PROGRAMS\n",
            "END AND EVA\n"
          ],
          "name": "stdout"
        }
      ]
    },
    {
      "cell_type": "markdown",
      "metadata": {
        "id": "8XSUP9dM46xC"
      },
      "source": [
        "76) Program that accepts a comma separated sequence of words as input and prints the words in a comma-separated sequence after sorting them alphabetically."
      ]
    },
    {
      "cell_type": "code",
      "metadata": {
        "colab": {
          "base_uri": "https://localhost:8080/"
        },
        "id": "rpqsDltM2mPG",
        "outputId": "a446f0f4-6003-401c-c7fe-c7cb49780cd6"
      },
      "source": [
        "itemValue=[x for x in input().split(',')]\r\n",
        "itemValue.sort()\r\n",
        "print(','.join(itemValue))"
      ],
      "execution_count": 51,
      "outputs": [
        {
          "output_type": "stream",
          "text": [
            "the, school, of ,ai\n",
            " of , school,ai,the\n"
          ],
          "name": "stdout"
        }
      ]
    },
    {
      "cell_type": "markdown",
      "metadata": {
        "id": "TaTKgGQf5MOy"
      },
      "source": [
        "77) Program which takes 2 digits, X,Y as input and generates a 2-dimensional array. The element value in the i-th row and j-th column of the array should be i*j."
      ]
    },
    {
      "cell_type": "code",
      "metadata": {
        "colab": {
          "base_uri": "https://localhost:8080/"
        },
        "id": "-xlRaJ1W5Fe-",
        "outputId": "7377fc7a-eb9f-482b-b99b-6173381b0b9f"
      },
      "source": [
        "inputString = input()\r\n",
        "dimensions=[int(x) for x in inputString.split(',')]\r\n",
        "rowNumber=dimensions[0]\r\n",
        "colNumumber=dimensions[1]\r\n",
        "multipleList = [[0 for col in range(colNumumber)] for row in range(rowNumber)]\r\n",
        "\r\n",
        "for row in range(rowNumber):\r\n",
        "    for col in range(colNumumber):\r\n",
        "        multipleList[row][col]= row*col\r\n",
        "\r\n",
        "print(multipleList)"
      ],
      "execution_count": 52,
      "outputs": [
        {
          "output_type": "stream",
          "text": [
            "3,5\n",
            "[[0, 0, 0, 0, 0], [0, 1, 2, 3, 4], [0, 2, 4, 6, 8]]\n"
          ],
          "name": "stdout"
        }
      ]
    },
    {
      "cell_type": "markdown",
      "metadata": {
        "id": "Zw8h2XZc5-Z1"
      },
      "source": [
        "78) Program to define a class which has at least two methods:\r\n",
        "extractString: to get a string from console input\r\n",
        "displayString: to print the string in upper case."
      ]
    },
    {
      "cell_type": "code",
      "metadata": {
        "colab": {
          "base_uri": "https://localhost:8080/"
        },
        "id": "yecewVAo5iUe",
        "outputId": "c71874d0-313f-4e9a-c112-6177e307ab42"
      },
      "source": [
        "class StringOperation(object):\r\n",
        "    def __init__(self):\r\n",
        "        self.string = \"\"\r\n",
        "\r\n",
        "    def extractString(self):\r\n",
        "        self.string = input()\r\n",
        "\r\n",
        "    def displayString(self):\r\n",
        "        print(self.string.upper())\r\n",
        "\r\n",
        "strOpr = StringOperation()\r\n",
        "strOpr.extractString()\r\n",
        "strOpr.displayString()"
      ],
      "execution_count": 53,
      "outputs": [
        {
          "output_type": "stream",
          "text": [
            "the school of ai\n",
            "THE SCHOOL OF AI\n"
          ],
          "name": "stdout"
        }
      ]
    },
    {
      "cell_type": "markdown",
      "metadata": {
        "id": "SrKa-tMd6jL6"
      },
      "source": [
        "79) Program which accepts a sequence of comma-separated numbers from console and generate a list and a tuple which contains every number."
      ]
    },
    {
      "cell_type": "code",
      "metadata": {
        "colab": {
          "base_uri": "https://localhost:8080/"
        },
        "id": "f52mIhaH6Ugo",
        "outputId": "ad215159-b993-4a47-f78b-e0b3c722aa66"
      },
      "source": [
        "inputValues=input()\r\n",
        "asList=inputValues.split(\",\")\r\n",
        "asTuple=tuple(inputValues)\r\n",
        "print('As a List : ', asList)\r\n",
        "print('As a Tuple : ', asTuple)"
      ],
      "execution_count": 56,
      "outputs": [
        {
          "output_type": "stream",
          "text": [
            "1,2,3\n",
            "As a List :  ['1', '2', '3']\n",
            "As a Tuple :  ('1', ',', '2', ',', '3')\n"
          ],
          "name": "stdout"
        }
      ]
    },
    {
      "cell_type": "markdown",
      "metadata": {
        "id": "-wSfNKKH7E-k"
      },
      "source": [
        "80) Program to generate a dictionary that contains (i, i*i) such that is an integral number between 1 and n (both included). and then the program should print the dictionary."
      ]
    },
    {
      "cell_type": "code",
      "metadata": {
        "colab": {
          "base_uri": "https://localhost:8080/"
        },
        "id": "nj7bRWuQ6vk1",
        "outputId": "69f530fe-d679-4704-cf94-c309cbafc0fb"
      },
      "source": [
        "numberValue=int(input())\r\n",
        "customDictionary=dict()\r\n",
        "for i in range(1,numberValue+1):\r\n",
        "    customDictionary[i]=i*i\r\n",
        "\r\n",
        "print(customDictionary)"
      ],
      "execution_count": 57,
      "outputs": [
        {
          "output_type": "stream",
          "text": [
            "6\n",
            "{1: 1, 2: 4, 3: 9, 4: 16, 5: 25, 6: 36}\n"
          ],
          "name": "stdout"
        }
      ]
    },
    {
      "cell_type": "markdown",
      "metadata": {
        "id": "DNdbPLHe7c0w"
      },
      "source": [
        "81) Program which can compute the factorial of a given numbers.\r\n",
        "The results should be printed in a comma-separated sequence on a single line."
      ]
    },
    {
      "cell_type": "code",
      "metadata": {
        "colab": {
          "base_uri": "https://localhost:8080/"
        },
        "id": "hbY3Ld5f7P6W",
        "outputId": "9e9372bb-0d87-4d3c-d243-6d4a0cb0326a"
      },
      "source": [
        "def factorial(inputNumber):\r\n",
        "    if inputNumber == 0:\r\n",
        "        return 1\r\n",
        "    return inputNumber * factorial(inputNumber - 1)\r\n",
        "\r\n",
        "inputNumber=int(input())\r\n",
        "print('Factorial of a number : ', inputNumber, 'is : ',  factorial(inputNumber))"
      ],
      "execution_count": 58,
      "outputs": [
        {
          "output_type": "stream",
          "text": [
            "33\n",
            "Factorial of a number :  33 is :  8683317618811886495518194401280000000\n"
          ],
          "name": "stdout"
        }
      ]
    },
    {
      "cell_type": "markdown",
      "metadata": {
        "id": "mK_j4DIt8rin"
      },
      "source": [
        "82) Program to check if a string is palindrome or not"
      ]
    },
    {
      "cell_type": "code",
      "metadata": {
        "colab": {
          "base_uri": "https://localhost:8080/"
        },
        "id": "YXw2L0CT7yDw",
        "outputId": "6dcbbd92-84ed-48bd-c93b-6809d1fc4911"
      },
      "source": [
        "def validateWordPalindrome(inputValue):\r\n",
        "    return s == s[::-1]\r\n",
        "\r\n",
        "inputValue = \"TENET\"\r\n",
        "result = validateWordPalindrome(inputValue)\r\n",
        " \r\n",
        "if result:\r\n",
        "    print(\"True,\", inputValue,\" is a palindrome\")\r\n",
        "else:\r\n",
        "    print(\"False,\", inputValue,\" is not a palindrome\")"
      ],
      "execution_count": 59,
      "outputs": [
        {
          "output_type": "stream",
          "text": [
            "True, TENET  is a palindrome\n"
          ],
          "name": "stdout"
        }
      ]
    },
    {
      "cell_type": "markdown",
      "metadata": {
        "id": "ZEBlU2Qi9Ro_"
      },
      "source": [
        "83) Program to check if a given string is Keyword or not"
      ]
    },
    {
      "cell_type": "code",
      "metadata": {
        "colab": {
          "base_uri": "https://localhost:8080/"
        },
        "id": "-y0be5Ka9Eyc",
        "outputId": "d5447bb6-8b31-4cf0-f7f5-57d79be08b58"
      },
      "source": [
        "import keyword \r\n",
        "  \r\n",
        "def validateKeyword(word) : \r\n",
        "    listOfKeywords= keyword.kwlist \r\n",
        "\r\n",
        "    if word in listOfKeywords : \r\n",
        "        return \"is a keyword\"\r\n",
        "    else : \r\n",
        "        return \"is not a keyword\"\r\n",
        "\r\n",
        "print('theschoolofai :', validateKeyword(\"theschoolofai\")) \r\n",
        "print(\"for :\", validateKeyword(\"for\"))"
      ],
      "execution_count": 60,
      "outputs": [
        {
          "output_type": "stream",
          "text": [
            "theschoolofai : is not a keyword\n",
            "for : is a keyword\n"
          ],
          "name": "stdout"
        }
      ]
    },
    {
      "cell_type": "markdown",
      "metadata": {
        "id": "MxUMC6JT-ERn"
      },
      "source": [
        "84) Program to Check if a given string is binary string or not"
      ]
    },
    {
      "cell_type": "code",
      "metadata": {
        "colab": {
          "base_uri": "https://localhost:8080/"
        },
        "id": "ZRWF8vuK9uqG",
        "outputId": "64d0cc9c-aa2e-40ac-8e3e-8f9193e31f7f"
      },
      "source": [
        "def validateStringIsBinary(inputValue) : \r\n",
        "  \r\n",
        "    p = set(inputValue) \r\n",
        "    s = {'0', '1'} \r\n",
        "  \r\n",
        "    if s == p or p == {'0'} or p == {'1'}: \r\n",
        "        print(\"Yes a binary\") \r\n",
        "    else : \r\n",
        "        print(\"Not a binary\") \r\n",
        "\r\n",
        "inputValue = \"101010000111\"\r\n",
        "validateStringIsBinary(inputValue) \r\n",
        "\r\n",
        "inputValue = \"1010100111\"\r\n",
        "validateStringIsBinary(inputValue) "
      ],
      "execution_count": 62,
      "outputs": [
        {
          "output_type": "stream",
          "text": [
            "Yes a binary\n",
            "Yes a binary\n"
          ],
          "name": "stdout"
        }
      ]
    },
    {
      "cell_type": "markdown",
      "metadata": {
        "id": "9CqM4Dj6_WoF"
      },
      "source": [
        "85) Program to validate year is leap year or not"
      ]
    },
    {
      "cell_type": "code",
      "metadata": {
        "colab": {
          "base_uri": "https://localhost:8080/"
        },
        "id": "yjj6t5Dl-VEJ",
        "outputId": "bcd5b906-d893-4f5a-c1e2-db321c9d393f"
      },
      "source": [
        "year = int(input(\"Enter a year: \"))  \r\n",
        "if (year % 4) == 0:  \r\n",
        "   if (year % 100) == 0:  \r\n",
        "       if (year % 400) == 0:  \r\n",
        "           print(\"{0} is a leap year\".format(year))  \r\n",
        "       else:  \r\n",
        "           print(\"{0} is not a leap year\".format(year))  \r\n",
        "   else:  \r\n",
        "       print(\"{0} is a leap year\".format(year))  \r\n",
        "else:  \r\n",
        "   print(\"{0} is not a leap year\".format(year))"
      ],
      "execution_count": 63,
      "outputs": [
        {
          "output_type": "stream",
          "text": [
            "Enter a year: 1988\n",
            "1988 is a leap year\n"
          ],
          "name": "stdout"
        }
      ]
    },
    {
      "cell_type": "markdown",
      "metadata": {
        "id": "eTF5nAzLAI-Z"
      },
      "source": [
        "86) Program to count the number of spaces in a string"
      ]
    },
    {
      "cell_type": "code",
      "metadata": {
        "colab": {
          "base_uri": "https://localhost:8080/"
        },
        "id": "C8twmiJL_uxH",
        "outputId": "fe13c30b-99ed-4daf-dfd5-6771bc24e047"
      },
      "source": [
        "str=input()\r\n",
        "spaces=0\r\n",
        "for i in range(0,len(str)):\r\n",
        "  if(str[i]==' '):\r\n",
        "    spaces=spaces+1\r\n",
        "print(\"The number of spaces are: \",spaces)"
      ],
      "execution_count": 64,
      "outputs": [
        {
          "output_type": "stream",
          "text": [
            "the school of ai\n",
            "The number of spaces are:  3\n"
          ],
          "name": "stdout"
        }
      ]
    },
    {
      "cell_type": "markdown",
      "metadata": {
        "id": "POCl8nj8AHeW"
      },
      "source": [
        "87) Program to count the number of characters in a string except spaces"
      ]
    },
    {
      "cell_type": "code",
      "metadata": {
        "colab": {
          "base_uri": "https://localhost:8080/"
        },
        "id": "GaQEBdOD_63c",
        "outputId": "1dea6a39-62a8-49ec-b76e-748ca1907893"
      },
      "source": [
        "a_string = \" The School Of AI \"\r\n",
        "number_of_letters = len(a_string) - a_string.count(\" \")\r\n",
        "print(number_of_letters)"
      ],
      "execution_count": 65,
      "outputs": [
        {
          "output_type": "stream",
          "text": [
            "13\n"
          ],
          "name": "stdout"
        }
      ]
    },
    {
      "cell_type": "markdown",
      "metadata": {
        "id": "TRNtXna3Akgb"
      },
      "source": [
        "88) Program to Add Two float Numbers"
      ]
    },
    {
      "cell_type": "code",
      "metadata": {
        "colab": {
          "base_uri": "https://localhost:8080/"
        },
        "id": "5BejbCKwAVUv",
        "outputId": "872567a6-a63b-42e0-94dd-7fef4a9de85a"
      },
      "source": [
        "num1 = input('Enter first number: ')\r\n",
        "num2 = input('Enter second number: ')\r\n",
        " \r\n",
        "sum = float(num1) + float(num2)\r\n",
        " \r\n",
        "print('The sum of {0} and {1} is {2}'.format(num1, num2, sum))"
      ],
      "execution_count": 66,
      "outputs": [
        {
          "output_type": "stream",
          "text": [
            "Enter first number: 2.5\n",
            "Enter second number: 5.2\n",
            "The sum of 2.5 and 5.2 is 7.7\n"
          ],
          "name": "stdout"
        }
      ]
    },
    {
      "cell_type": "markdown",
      "metadata": {
        "id": "jWP0wwezA0Yf"
      },
      "source": [
        "89) Program to multiply two matrices"
      ]
    },
    {
      "cell_type": "code",
      "metadata": {
        "colab": {
          "base_uri": "https://localhost:8080/"
        },
        "id": "kmtDtwEaAsOg",
        "outputId": "bd930ad4-92ca-46d6-de3c-ea689a35018a"
      },
      "source": [
        "# 3x3 matrix\r\n",
        "X = [[11,4,7],\r\n",
        "    [4 ,5,6],\r\n",
        "    [7 ,8,3]]\r\n",
        "# 3x4 matrix\r\n",
        "Y = [[4,8,1,2],\r\n",
        "    [6,7,3,0],\r\n",
        "    [4,4,9,1]]\r\n",
        "# result is 3x4\r\n",
        "result = [[0,0,0,0],\r\n",
        "         [0,0,0,0],\r\n",
        "         [0,0,0,0]]\r\n",
        " \r\n",
        "# iterate through rows of X\r\n",
        "for i in range(len(X)):\r\n",
        "   # iterate through columns of Y\r\n",
        "   for j in range(len(Y[0])):\r\n",
        "       # iterate through rows of Y\r\n",
        "       for k in range(len(Y)):\r\n",
        "           result[i][j] += X[i][k] * Y[k][j]\r\n",
        " \r\n",
        "for r in result:\r\n",
        "   print(r)"
      ],
      "execution_count": 67,
      "outputs": [
        {
          "output_type": "stream",
          "text": [
            "[96, 144, 86, 29]\n",
            "[70, 91, 73, 14]\n",
            "[88, 124, 58, 17]\n"
          ],
          "name": "stdout"
        }
      ]
    },
    {
      "cell_type": "markdown",
      "metadata": {
        "id": "w406SiSABKvh"
      },
      "source": [
        "90) Program to Display the multiplication Table"
      ]
    },
    {
      "cell_type": "code",
      "metadata": {
        "colab": {
          "base_uri": "https://localhost:8080/"
        },
        "id": "m2sR9UODA3ei",
        "outputId": "7d38bbbd-9c7d-45f3-aacc-8d0cdd8f9168"
      },
      "source": [
        "num = int(input(\"Display multiplication table of? \"))\r\n",
        "\r\n",
        "# use for loop to iterate 10 times\r\n",
        "for i in range(1,11):\r\n",
        "   print(num,'x',i,'=',num*i)"
      ],
      "execution_count": 68,
      "outputs": [
        {
          "output_type": "stream",
          "text": [
            "Display multiplication table of? 4\n",
            "4 x 1 = 4\n",
            "4 x 2 = 8\n",
            "4 x 3 = 12\n",
            "4 x 4 = 16\n",
            "4 x 5 = 20\n",
            "4 x 6 = 24\n",
            "4 x 7 = 28\n",
            "4 x 8 = 32\n",
            "4 x 9 = 36\n",
            "4 x 10 = 40\n"
          ],
          "name": "stdout"
        }
      ]
    },
    {
      "cell_type": "markdown",
      "metadata": {
        "id": "xfLF4oMtBSBc"
      },
      "source": [
        "91) Program To Display Powers of 2 Using Anonymous Function\r\n"
      ]
    },
    {
      "cell_type": "code",
      "metadata": {
        "colab": {
          "base_uri": "https://localhost:8080/"
        },
        "id": "7TysRr-DBNwG",
        "outputId": "1155bde9-6812-41eb-88eb-6a65bdd2cdb9"
      },
      "source": [
        "terms = int(input(\"How many terms? \"))\r\n",
        " \r\n",
        "# use anonymous function\r\n",
        "result = list(map(lambda x: 2 ** x, range(terms)))\r\n",
        " \r\n",
        "# display the result\r\n",
        "for i in range(terms):\r\n",
        "   print(\"2 raised to power\",i,\"is\",result[i])"
      ],
      "execution_count": 69,
      "outputs": [
        {
          "output_type": "stream",
          "text": [
            "How many terms? 4\n",
            "2 raised to power 0 is 1\n",
            "2 raised to power 1 is 2\n",
            "2 raised to power 2 is 4\n",
            "2 raised to power 3 is 8\n"
          ],
          "name": "stdout"
        }
      ]
    },
    {
      "cell_type": "markdown",
      "metadata": {
        "id": "KxU3KXMvBcBP"
      },
      "source": [
        "92) Program to Add Two Matrices"
      ]
    },
    {
      "cell_type": "code",
      "metadata": {
        "colab": {
          "base_uri": "https://localhost:8080/"
        },
        "id": "RLs4VCUxBXDi",
        "outputId": "ba517023-8cf4-45a5-dd98-5f46649f73c9"
      },
      "source": [
        "X = [[11,4,7],\r\n",
        "    [4 ,5,6],\r\n",
        "    [7 ,8,3]]\r\n",
        "# 3x4 matrix\r\n",
        "Y = [[4,8,1,2],\r\n",
        "    [6,7,3,0],\r\n",
        "    [4,4,9,1]]\r\n",
        " \r\n",
        "result = [[0,0,0],\r\n",
        "         [0,0,0],\r\n",
        "         [0,0,0]]\r\n",
        " \r\n",
        "# iterate through rows\r\n",
        "for i in range(len(X)):\r\n",
        "   # iterate through columns\r\n",
        "   for j in range(len(X[0])):\r\n",
        "       result[i][j] = X[i][j] + Y[i][j]\r\n",
        " \r\n",
        "for r in result:\r\n",
        "   print(r)"
      ],
      "execution_count": 70,
      "outputs": [
        {
          "output_type": "stream",
          "text": [
            "[15, 12, 8]\n",
            "[10, 12, 9]\n",
            "[11, 12, 12]\n"
          ],
          "name": "stdout"
        }
      ]
    },
    {
      "cell_type": "markdown",
      "metadata": {
        "id": "9ZPuY_sJBl3Y"
      },
      "source": [
        "93) Program to Generate a Random Number\r\n"
      ]
    },
    {
      "cell_type": "code",
      "metadata": {
        "colab": {
          "base_uri": "https://localhost:8080/"
        },
        "id": "rhQyEvg6BhUV",
        "outputId": "bd9cf0d3-f819-44ad-b242-fa0a57f8469d"
      },
      "source": [
        "import random\r\n",
        "print('First random : ', random.randint(0,9))\r\n",
        "print('Second random : ', random.randint(0,9))\r\n",
        "print('Third random : ', random.randint(0,9))\r\n",
        "print('Fourth random : ', random.randint(0,9))"
      ],
      "execution_count": 71,
      "outputs": [
        {
          "output_type": "stream",
          "text": [
            "First random :  7\n",
            "Second random :  3\n",
            "Third random :  0\n",
            "Fourth random :  8\n"
          ],
          "name": "stdout"
        }
      ]
    },
    {
      "cell_type": "markdown",
      "metadata": {
        "id": "GRWHd_knB3YU"
      },
      "source": [
        "94) Program to Print all Prime Numbers in an Interval"
      ]
    },
    {
      "cell_type": "code",
      "metadata": {
        "colab": {
          "base_uri": "https://localhost:8080/"
        },
        "id": "7Etpn_PsBoqL",
        "outputId": "6c132c73-27d3-4c45-9468-53efdb1bce5d"
      },
      "source": [
        "# take input from the user\r\n",
        "lower = int(input(\"Enter lower range: \"))\r\n",
        "upper = int(input(\"Enter upper range: \"))\r\n",
        " \r\n",
        "for num in range(lower,upper + 1):\r\n",
        "   # prime numbers are greater than 1\r\n",
        "   if num > 1:\r\n",
        "       for i in range(2,num):\r\n",
        "           if (num % i) == 0:\r\n",
        "               break\r\n",
        "       else:\r\n",
        "           print(num)"
      ],
      "execution_count": 73,
      "outputs": [
        {
          "output_type": "stream",
          "text": [
            "Enter lower range: 12\n",
            "Enter upper range: 45\n",
            "13\n",
            "17\n",
            "19\n",
            "23\n",
            "29\n",
            "31\n",
            "37\n",
            "41\n",
            "43\n"
          ],
          "name": "stdout"
        }
      ]
    },
    {
      "cell_type": "markdown",
      "metadata": {
        "id": "XKvCNDdhCBbx"
      },
      "source": [
        "95) Program to demonstrate `while` loop"
      ]
    },
    {
      "cell_type": "code",
      "metadata": {
        "colab": {
          "base_uri": "https://localhost:8080/"
        },
        "id": "nOnTGY1kB6Ix",
        "outputId": "ab21e417-23f2-466d-d7d4-7ca43d46d423"
      },
      "source": [
        "num = 1\r\n",
        "# loop will repeat itself as long as\r\n",
        "# num < 10 remains true\r\n",
        "while num < 10:\r\n",
        "    print(num)\r\n",
        "    #incrementing the value of num\r\n",
        "    num = num + 3"
      ],
      "execution_count": 74,
      "outputs": [
        {
          "output_type": "stream",
          "text": [
            "1\n",
            "4\n",
            "7\n"
          ],
          "name": "stdout"
        }
      ]
    },
    {
      "cell_type": "markdown",
      "metadata": {
        "id": "4jhfPtVqCJjq"
      },
      "source": [
        "96) Program to demonstrate Nested while loop"
      ]
    },
    {
      "cell_type": "code",
      "metadata": {
        "colab": {
          "base_uri": "https://localhost:8080/"
        },
        "id": "JPX2Ipx3CFar",
        "outputId": "c0f21dcb-5077-42e3-922f-6c487c3602a4"
      },
      "source": [
        "i = 1\r\n",
        "j = 5\r\n",
        "while i < 4:\r\n",
        "    while j < 8:\r\n",
        "        print(i, \",\", j)\r\n",
        "        j = j + 1\r\n",
        "        i = i + 1"
      ],
      "execution_count": 75,
      "outputs": [
        {
          "output_type": "stream",
          "text": [
            "1 , 5\n",
            "2 , 6\n",
            "3 , 7\n"
          ],
          "name": "stdout"
        }
      ]
    },
    {
      "cell_type": "markdown",
      "metadata": {
        "id": "KzR7Bq4GCQ5H"
      },
      "source": [
        "97) Program to demonstrate while loop with else block"
      ]
    },
    {
      "cell_type": "code",
      "metadata": {
        "colab": {
          "base_uri": "https://localhost:8080/"
        },
        "id": "lUUkUVYQCODN",
        "outputId": "1844905d-ef23-43a6-b5a2-7f4fc8f032b3"
      },
      "source": [
        "num = 10\r\n",
        "while num > 3:\r\n",
        "   print(num)\r\n",
        "   num = num-1\r\n",
        "else:\r\n",
        "   print(\"loop is finished\")"
      ],
      "execution_count": 76,
      "outputs": [
        {
          "output_type": "stream",
          "text": [
            "10\n",
            "9\n",
            "8\n",
            "7\n",
            "6\n",
            "5\n",
            "4\n",
            "loop is finished\n"
          ],
          "name": "stdout"
        }
      ]
    },
    {
      "cell_type": "markdown",
      "metadata": {
        "id": "SHQs6IK6DDdv"
      },
      "source": [
        "98) Program to Remove Punctuation from a String"
      ]
    },
    {
      "cell_type": "code",
      "metadata": {
        "colab": {
          "base_uri": "https://localhost:8080/"
        },
        "id": "BDuoSLwODIK7",
        "outputId": "20a295d2-49cc-4283-b797-1c739e991a3f"
      },
      "source": [
        "punctuation = '''''!()-[]{};:'\"\\,<>./?@#$%^&*_~'''  \r\n",
        "# take input from the user  \r\n",
        "my_str = input(\"Enter a string: \")  \r\n",
        "# remove punctuation from the string  \r\n",
        "no_punct = \"\"  \r\n",
        "for char in my_str:  \r\n",
        "   if char not in punctuation:  \r\n",
        "       no_punct = no_punct + char  \r\n",
        "# display the unpunctuated string  \r\n",
        "print(no_punct)  "
      ],
      "execution_count": 77,
      "outputs": [
        {
          "output_type": "stream",
          "text": [
            "Enter a string: the, schoo of ai has end phase-1 & phase-2 \n",
            "the schoo of ai has end phase1  phase2 \n"
          ],
          "name": "stdout"
        }
      ]
    },
    {
      "cell_type": "markdown",
      "metadata": {
        "id": "amzllKlkCy59"
      },
      "source": [
        "99) Program to display calendar"
      ]
    },
    {
      "cell_type": "code",
      "metadata": {
        "colab": {
          "base_uri": "https://localhost:8080/"
        },
        "id": "0fEPfCKOC61k",
        "outputId": "a2b8283e-2e2b-44ca-f69b-b3fa78a3eb6a"
      },
      "source": [
        "import calendar  \r\n",
        "# Enter the month and year  \r\n",
        "yy = int(input(\"Enter year: \"))  \r\n",
        "mm = int(input(\"Enter month: \"))  \r\n",
        "  \r\n",
        "# display the calendar  \r\n",
        "print(calendar.month(yy,mm))  "
      ],
      "execution_count": 78,
      "outputs": [
        {
          "output_type": "stream",
          "text": [
            "Enter year: 1988\n",
            "Enter month: 2\n",
            "   February 1988\n",
            "Mo Tu We Th Fr Sa Su\n",
            " 1  2  3  4  5  6  7\n",
            " 8  9 10 11 12 13 14\n",
            "15 16 17 18 19 20 21\n",
            "22 23 24 25 26 27 28\n",
            "29\n",
            "\n"
          ],
          "name": "stdout"
        }
      ]
    },
    {
      "cell_type": "markdown",
      "metadata": {
        "id": "fgXyFIsvCjbv"
      },
      "source": [
        "100) Program to convert Celsius to Fahrenheit"
      ]
    },
    {
      "cell_type": "code",
      "metadata": {
        "colab": {
          "base_uri": "https://localhost:8080/"
        },
        "id": "b2Zp47PLCUto",
        "outputId": "ae1a4eda-464e-4e52-eda2-1337512c40d3"
      },
      "source": [
        "celsius = float(input('Enter temperature in Celsius: '))  \r\n",
        "fahrenheit = (celsius * 1.8) + 32  \r\n",
        "print('%0.1f  Celsius is equal to %0.1f degree Fahrenheit'%(celsius,fahrenheit))  "
      ],
      "execution_count": 79,
      "outputs": [
        {
          "output_type": "stream",
          "text": [
            "Enter temperature in Celsius: 89\n",
            "89.0  Celsius is equal to 192.2 degree Fahrenheit\n"
          ],
          "name": "stdout"
        }
      ]
    },
    {
      "cell_type": "code",
      "metadata": {
        "id": "ySRPUaWENT88"
      },
      "source": [
        ""
      ],
      "execution_count": null,
      "outputs": []
    }
  ]
}